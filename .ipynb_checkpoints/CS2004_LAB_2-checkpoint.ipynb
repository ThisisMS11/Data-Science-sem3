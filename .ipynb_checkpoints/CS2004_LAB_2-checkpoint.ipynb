{
 "cells": [
  {
   "cell_type": "markdown",
   "metadata": {
    "id": "ptLaYZ83fjS0"
   },
   "source": [
    "#**Lists**"
   ]
  },
  {
   "cell_type": "code",
   "execution_count": 2,
   "metadata": {
    "id": "o_bSLed3e3yI"
   },
   "outputs": [
    {
     "name": "stdout",
     "output_type": "stream",
     "text": [
      "[1, 2, 3, 4, 5, 9, 2, 4, 512, 1, 3]\n"
     ]
    },
    {
     "data": {
      "text/plain": [
       "list"
      ]
     },
     "execution_count": 2,
     "metadata": {},
     "output_type": "execute_result"
    }
   ],
   "source": [
    "a1 = [1,2,3,4,5,9]\n",
    "a2 = [2,4,512,1,3]\n",
    "print(a1+a2)\n",
    "type(a1)"
   ]
  },
  {
   "cell_type": "markdown",
   "metadata": {
    "id": "Go3rLJAdgS98"
   },
   "source": [
    "#**Tuple**"
   ]
  },
  {
   "cell_type": "code",
   "execution_count": 3,
   "metadata": {
    "id": "9c3jMQ_PgUqT"
   },
   "outputs": [
    {
     "name": "stdout",
     "output_type": "stream",
     "text": [
      "('cs533', 'cs534', 'cs615')\n"
     ]
    },
    {
     "data": {
      "text/plain": [
       "'cs534'"
      ]
     },
     "execution_count": 3,
     "metadata": {},
     "output_type": "execute_result"
    }
   ],
   "source": [
    "tuple1 = ('cs533','cs534', 'cs615')\n",
    "print(tuple1)\n",
    "tuple1[1]"
   ]
  },
  {
   "cell_type": "markdown",
   "metadata": {
    "id": "Kc6kp2xYgWxE"
   },
   "source": [
    "#**Dictionary**"
   ]
  },
  {
   "cell_type": "code",
   "execution_count": 2,
   "metadata": {
    "colab": {
     "base_uri": "https://localhost:8080/"
    },
    "executionInfo": {
     "elapsed": 440,
     "status": "ok",
     "timestamp": 1660734830717,
     "user": {
      "displayName": "KARNATI MOHAN",
      "userId": "16604712269571437600"
     },
     "user_tz": -330
    },
    "id": "31S5wWfzgY48",
    "outputId": "85b44bbe-51b4-451f-9d07-34351c1b48c5"
   },
   "outputs": [
    {
     "name": "stdout",
     "output_type": "stream",
     "text": [
      "dict['Name']:  Zara\n",
      "dict['Age']:  7\n"
     ]
    }
   ],
   "source": [
    "d = {'Name': 'Zara', 'Age': 7, 'Class': 'First'}\n",
    "print (\"dict['Name']: \", d['Name'])\n",
    "print (\"dict['Age']: \", d['Age'])"
   ]
  },
  {
   "cell_type": "code",
   "execution_count": 4,
   "metadata": {
    "colab": {
     "base_uri": "https://localhost:8080/"
    },
    "executionInfo": {
     "elapsed": 569,
     "status": "ok",
     "timestamp": 1660734874496,
     "user": {
      "displayName": "KARNATI MOHAN",
      "userId": "16604712269571437600"
     },
     "user_tz": -330
    },
    "id": "IccaFyEfgdQk",
    "outputId": "c5e26bba-dd07-40ad-c68d-12a9f6726604"
   },
   "outputs": [
    {
     "name": "stdout",
     "output_type": "stream",
     "text": [
      "dict['Age']:  8\n",
      "dict['School']:  DPS School\n"
     ]
    }
   ],
   "source": [
    "d['Age'] = 8; \n",
    "d['School'] = \"DPS School\" \n",
    "print (\"dict['Age']: \", d['Age'])\n",
    "print (\"dict['School']: \", d['School'])"
   ]
  },
  {
   "cell_type": "markdown",
   "metadata": {
    "id": "BUB3J1L6g01Q"
   },
   "source": [
    "#**Sets**"
   ]
  },
  {
   "cell_type": "code",
   "execution_count": null,
   "metadata": {
    "id": "SqAQl0qzg2lY"
   },
   "outputs": [],
   "source": [
    "my_set = {1,2,3,4,3,2}\n",
    "print(my_set)"
   ]
  },
  {
   "cell_type": "code",
   "execution_count": null,
   "metadata": {
    "id": "P3GlVHYMg4ny"
   },
   "outputs": [],
   "source": [
    "ds1 = {}\n",
    "print(type(ds1))\n",
    "\n",
    "ds2 = set()\n",
    "type(ds2)"
   ]
  },
  {
   "cell_type": "markdown",
   "metadata": {
    "id": "Cw85i2Bcg9OY"
   },
   "source": [
    "# **More about Numpy**"
   ]
  },
  {
   "cell_type": "code",
   "execution_count": 1,
   "metadata": {
    "id": "ypq_gagYg9q4"
   },
   "outputs": [
    {
     "name": "stdout",
     "output_type": "stream",
     "text": [
      "[[ 3  5 25 23]\n",
      " [ 2  3  4  5]]\n"
     ]
    }
   ],
   "source": [
    "import numpy as np\n",
    "np_array = np.array([[3,5,25,23],[2,3,4,5]])\n",
    "print(np_array)"
   ]
  },
  {
   "cell_type": "code",
   "execution_count": null,
   "metadata": {
    "id": "b7jo06ANhGH0"
   },
   "outputs": [],
   "source": [
    "np_array2 = np.ones((3,4),dtype=int)\n",
    "print(np_array2)"
   ]
  },
  {
   "cell_type": "code",
   "execution_count": null,
   "metadata": {
    "id": "eGzXCOmthGLv"
   },
   "outputs": [],
   "source": [
    "np_array3 = np.zeros((3,4),dtype=int)\n",
    "print(np_array3)"
   ]
  },
  {
   "cell_type": "code",
   "execution_count": null,
   "metadata": {
    "id": "5MFBkAUchGNr"
   },
   "outputs": [],
   "source": [
    "np_array4 = np.full((3,4),9)\n",
    "print(np_array4)"
   ]
  },
  {
   "cell_type": "code",
   "execution_count": null,
   "metadata": {
    "id": "WxaXljyIhGPs"
   },
   "outputs": [],
   "source": [
    "array = [2,45,634,23]\n",
    "np_array = np.array(array)\n",
    "print(np_array)"
   ]
  },
  {
   "cell_type": "markdown",
   "metadata": {
    "id": "bHIJQblShQAU"
   },
   "source": [
    "#**Pandas**"
   ]
  },
  {
   "cell_type": "code",
   "execution_count": null,
   "metadata": {
    "id": "09MNNFa_hSzk"
   },
   "outputs": [],
   "source": [
    "import pandas as pd"
   ]
  },
  {
   "cell_type": "code",
   "execution_count": null,
   "metadata": {
    "id": "tQhU4VtihUtU"
   },
   "outputs": [],
   "source": [
    "from google.colab import drive\n",
    "drive.mount('/content/drive')"
   ]
  },
  {
   "cell_type": "code",
   "execution_count": null,
   "metadata": {
    "id": "VL5H4iLyhX6L"
   },
   "outputs": [],
   "source": [
    "df = pd.read_csv('/content/drive/MyDrive/DATA_SCIENCE_LAB/iris.csv',sep=',')\n",
    "df"
   ]
  },
  {
   "cell_type": "code",
   "execution_count": null,
   "metadata": {
    "id": "YafJHRJRhYyc"
   },
   "outputs": [],
   "source": [
    "df.shape"
   ]
  },
  {
   "cell_type": "code",
   "execution_count": null,
   "metadata": {
    "id": "dec-eMYehckD"
   },
   "outputs": [],
   "source": [
    "df.head()"
   ]
  },
  {
   "cell_type": "code",
   "execution_count": null,
   "metadata": {
    "id": "Np9Y8dO2hePc"
   },
   "outputs": [],
   "source": [
    "df.tail()"
   ]
  },
  {
   "cell_type": "code",
   "execution_count": null,
   "metadata": {
    "id": "YY6yd5gXhgyM"
   },
   "outputs": [],
   "source": [
    "df['sepal_length'][0]"
   ]
  },
  {
   "cell_type": "code",
   "execution_count": null,
   "metadata": {
    "id": "R-i_Wrx0hiSc"
   },
   "outputs": [],
   "source": [
    "df['sepal_length'][0:5]"
   ]
  },
  {
   "cell_type": "markdown",
   "metadata": {
    "id": "nwwgZHJYhoVU"
   },
   "source": [
    "# **LINE CHART**\n",
    "\n",
    "*Show the change in value of an attribute with respece to x variable (which is often time)*"
   ]
  },
  {
   "cell_type": "code",
   "execution_count": null,
   "metadata": {
    "id": "j-kKOYsIhpKd"
   },
   "outputs": [],
   "source": [
    "from matplotlib import pyplot as plt\n",
    "date = [25, 26, 27, 28, 29, 30, 31]\n",
    "India = [21000, 24000, 25000, 30000, 32000, 32500, 34000]\n",
    "USA = [24000, 29000, 32000, 41000, 49000, 49020, 50000]\n",
    "plt.plot(date, India, color='blue', marker='*', linestyle='solid')\n",
    "plt.plot(date, USA, color='red', marker='o', linestyle='solid')\n",
    "plt.title('COVID-19 cases')\n",
    "plt.ylabel('Number of cases')\n",
    "plt.xlabel('Dates of august month')\n",
    "plt.legend(['India', 'USA'], loc='lower right')\n",
    "plt.show()"
   ]
  },
  {
   "cell_type": "code",
   "execution_count": null,
   "metadata": {
    "id": "cyx6IYIShr_j"
   },
   "outputs": [],
   "source": [
    "plt.plot(date, India, 'g--',date, USA, 'b--')\n",
    "\n",
    "plt.title('COVID-19 cases')\n",
    "plt.ylabel('Number of cases')\n",
    "plt.xlabel('Dates of august month')\n",
    "plt.legend(['India', 'USA'], loc='lower right')\n",
    "plt.show()"
   ]
  },
  {
   "cell_type": "code",
   "execution_count": null,
   "metadata": {
    "id": "OqyeuiRfhtuE"
   },
   "outputs": [],
   "source": [
    "# red dashes, blue squares and green triangles\n",
    "plt.plot( date, India, 'bs--', date, USA, 'g^--')\n",
    "plt.show()"
   ]
  },
  {
   "cell_type": "markdown",
   "metadata": {
    "id": "sur0Dgyfhv4s"
   },
   "source": [
    "# **BAR CHART**\n",
    "\n",
    "*Represents data attribute values within a particular data category by using bars of different height*"
   ]
  },
  {
   "cell_type": "code",
   "execution_count": null,
   "metadata": {
    "id": "y3hAfaSjhwds"
   },
   "outputs": [],
   "source": [
    "year = ['2001','2002','2003','2004','2005','2006','2007','2008','2009','2010']\n",
    "runs = [941,854,1595,625,942,509,548,749,1052,961]\n",
    "plt.bar(year, runs)\n",
    "plt.xlabel('Year', fontsize=20)\n",
    "plt.ylabel('Runs scored', fontsize=20)\n",
    "plt.xticks( year, fontsize=10, rotation = 90)\n",
    "plt.title('Number of runs scored by DHONI from 2001 to 2010',fontsize=15)\n",
    "plt.show()"
   ]
  },
  {
   "cell_type": "markdown",
   "metadata": {
    "id": "oqxbU7m2hzuE"
   },
   "source": [
    "# **SCATTER CHART**\n",
    "\n",
    "*Scatter plots are a commonly used data visualisation tool. They allow us to identify and determine if there is a relationship (correlation) between two variables and the strength of that relationship*"
   ]
  },
  {
   "cell_type": "code",
   "execution_count": null,
   "metadata": {
    "id": "4zUZhIQch1uE"
   },
   "outputs": [],
   "source": [
    "import matplotlib.pyplot as plt\n",
    "price = [2.50, 1.23, 4.02, 3.25, 5.00, 4.40]\n",
    "sales_per_day = [34, 62, 49, 22, 13, 19]\n",
    "plt.ylabel('sales per day', fontsize=20)\n",
    "plt.xlabel('Price', fontsize=20)\n",
    "plt.title('Number of sales per day according to the price',fontsize=15)\n",
    "plt.scatter(price, sales_per_day)\n",
    "plt.show()"
   ]
  },
  {
   "cell_type": "code",
   "execution_count": null,
   "metadata": {
    "id": "lTin4fU-h3dc"
   },
   "outputs": [],
   "source": [
    "import matplotlib.pyplot as plt\n",
    "import numpy as np\n",
    "\n",
    "price = np.asarray([2.50, 1.23, 4.02, 3.25, 5.00, 4.40])\n",
    "sales_per_day = np.asarray([34, 62, 49, 22, 13, 19])\n",
    "profit_margin = np.asarray([20, 35, 40, 20, 27.5, 15])\n",
    "\n",
    "plt.scatter(x=price, y=sales_per_day, s=profit_margin * 10)\n",
    "plt.show()"
   ]
  },
  {
   "cell_type": "code",
   "execution_count": null,
   "metadata": {
    "id": "mhQ_zFgqh5Zc"
   },
   "outputs": [],
   "source": [
    "N = 6\n",
    "colors = np.random.rand(N)\n",
    "price = [2.50, 1.23, 4.02, 3.25, 5.00, 4.40]\n",
    "sales_per_day = [34, 62, 49, 22, 13, 19]\n",
    "profit_margin = np.asarray([20, 35, 40, 20, 27.5, 15])\n",
    "\n",
    "plt.scatter(x=price, y=sales_per_day, s=profit_margin * 10, c= colors)\n",
    "plt.show()"
   ]
  },
  {
   "cell_type": "markdown",
   "metadata": {
    "id": "8WUfJmO6pHB4"
   },
   "source": [
    "# **PIE CHART**\n",
    "\n",
    "*good at showing percentage or proportional data.*"
   ]
  },
  {
   "cell_type": "code",
   "execution_count": null,
   "metadata": {
    "id": "6BNj_PtNpKPz"
   },
   "outputs": [],
   "source": [
    "labels = 'USA','India','Japan','China'\n",
    "sizes = [30, 15, 45, 10]\n",
    "fig1, ((ax1, ax2, ax3, ax4)) = plt.subplots(1, 4)\n",
    "ax1.pie(sizes,labels=labels)\n",
    "ax2.pie(sizes,labels=labels)\n",
    "ax3.pie(sizes,labels=labels)\n",
    "ax4.pie(sizes,labels=labels)\n",
    "plt.show()"
   ]
  },
  {
   "cell_type": "markdown",
   "metadata": {
    "id": "UWUcPn7kpOsT"
   },
   "source": [
    "# **STATISTICS**\n",
    "\n",
    "**MEAN & MEDIAN**"
   ]
  },
  {
   "cell_type": "code",
   "execution_count": null,
   "metadata": {
    "id": "oyoIpP6LpVqD"
   },
   "outputs": [],
   "source": [
    "def findMean(data):\n",
    "    return np.sum(data)/len(data)\n",
    "\n",
    "def findMedian(data):\n",
    "\n",
    "    n = len(data)\n",
    "    np.sort(data)\n",
    "    midpoint = n // 2\n",
    "    if n % 2 == 1:\n",
    "        return data[midpoint]\n",
    "    else:\n",
    "        lo = midpoint - 1\n",
    "        hi = midpoint\n",
    "        return (data[lo] + data[hi]) / 2\n",
    "    \n",
    "data = 10*np.random.random(1000)\n",
    "print(findMean(data))\n",
    "print(findMedian(data))"
   ]
  },
  {
   "cell_type": "markdown",
   "metadata": {
    "id": "XJdtLFTmpbCl"
   },
   "source": [
    "**VARIANCE**\n",
    "\n",
    "*it is the measurement of the distance of a set of random numbers from their collective average value. Variance is used in statistics as a way of better understanding a data set's distribution.*\n",
    "\n",
    "$ Variance = \\frac{\\sum{({x-mean})^2}}{len(data)-1}$"
   ]
  },
  {
   "cell_type": "code",
   "execution_count": null,
   "metadata": {
    "id": "va-Tdnt6pVsj"
   },
   "outputs": [],
   "source": [
    "import numpy as np\n",
    "def findVariance(data):\n",
    "    mean = findMean(data)\n",
    "    \n",
    "    diff = data-mean\n",
    "    \n",
    "    return np.sum(diff**2)/(len(data)-1)\n",
    "\n",
    "data = 10*np.random.random(10)\n",
    "print(data)\n",
    "findVariance(data)"
   ]
  },
  {
   "cell_type": "markdown",
   "metadata": {
    "id": "Nm_PZsFvpfR1"
   },
   "source": [
    "**STANDARD DEVIATION**"
   ]
  },
  {
   "cell_type": "code",
   "execution_count": null,
   "metadata": {
    "id": "zXeyDYXVpVum"
   },
   "outputs": [],
   "source": [
    "def findSD(data):\n",
    "    return np.sqrt(findVariance(data))\n",
    "\n",
    "data = 10*np.random.random(10)\n",
    "findSD(data)"
   ]
  },
  {
   "cell_type": "markdown",
   "metadata": {
    "id": "X5emtukQpkLt"
   },
   "source": [
    "**CO-VARIANCE**\n",
    "\n",
    "*Generally use the data science field for comparing data samples from different populations, and covariance is used to determine how much two random variables to each other*\n",
    "\n",
    "$Cov(X, Y) = E([X-E(X)]. [Y-E(Y)])$"
   ]
  },
  {
   "cell_type": "code",
   "execution_count": null,
   "metadata": {
    "id": "v7w9hXldplIk"
   },
   "outputs": [],
   "source": [
    "x = [1692,1978,1884,2151,2519]\n",
    "y = [68,102,110,112,154]\n",
    "plt.scatter(x, y, c='r')\n",
    "plt.show()"
   ]
  },
  {
   "cell_type": "code",
   "execution_count": null,
   "metadata": {
    "id": "2MV-TPLgpqFT"
   },
   "outputs": [],
   "source": [
    "def findCovariance(x,y):\n",
    "    meanx = np.mean(x)\n",
    "    meany = np.mean(y)\n",
    "    \n",
    "    diffx = x-meanx\n",
    "    diffy = y-meany\n",
    "    \n",
    "    return np.sum(np.dot(diffx,diffy))/(len(x)-1)\n",
    "\n",
    "findCovariance(x,y)"
   ]
  },
  {
   "cell_type": "markdown",
   "metadata": {
    "id": "a3wtWtVVpuLz"
   },
   "source": [
    "**CORRELATION**\n",
    "\n",
    "*correlation, is used to determine change one variable is it affect another variable.*\n",
    "\n",
    "$Cor(X, Y) = \\frac{Cov(X, Y)}{sd(X).sd(Y)}$ "
   ]
  },
  {
   "cell_type": "code",
   "execution_count": null,
   "metadata": {
    "id": "R4ukmAq2pvY_"
   },
   "outputs": [],
   "source": [
    "def findCorrelation(x,y):\n",
    "    return findCovariance(x,y)/(findSD(x)*findSD(y))\n",
    "findCorrelation(x,y)"
   ]
  },
  {
   "cell_type": "code",
   "execution_count": null,
   "metadata": {
    "id": "m9s52GhRpvbL"
   },
   "outputs": [],
   "source": [
    "from google.colab import drive\n",
    "drive.mount('/content/drive')"
   ]
  },
  {
   "cell_type": "code",
   "execution_count": null,
   "metadata": {
    "id": "_MCy7zlKpvdw"
   },
   "outputs": [],
   "source": [
    "import pandas as pd\n",
    "df = pd.read_csv(\"/content/drive/MyDrive/DATA_SICENCE/01Lab_04_01/wine.csv\", sep = ',', header = None)"
   ]
  },
  {
   "cell_type": "code",
   "execution_count": null,
   "metadata": {
    "id": "FOkwafOxqB5z"
   },
   "outputs": [],
   "source": [
    "df.head()"
   ]
  },
  {
   "cell_type": "code",
   "execution_count": null,
   "metadata": {
    "id": "TDg0VI70qEJ1"
   },
   "outputs": [],
   "source": [
    "df.info()"
   ]
  },
  {
   "cell_type": "code",
   "execution_count": null,
   "metadata": {
    "id": "y0_ae5CtqGHE"
   },
   "outputs": [],
   "source": [
    "df.isnull().sum()"
   ]
  },
  {
   "cell_type": "code",
   "execution_count": null,
   "metadata": {
    "id": "4Vk5TYF7qIK8"
   },
   "outputs": [],
   "source": [
    "data2 = df.fillna(0)\n",
    "print(data2.head())"
   ]
  },
  {
   "cell_type": "code",
   "execution_count": null,
   "metadata": {
    "id": "9v827_svqK2k"
   },
   "outputs": [],
   "source": [
    "data3 = df.fillna(df.mean())\n",
    "print(data3.head())\n",
    "data3.isnull().sum()"
   ]
  },
  {
   "cell_type": "code",
   "execution_count": null,
   "metadata": {
    "id": "hxarvTVFqM19"
   },
   "outputs": [],
   "source": [
    "data4 = df.fillna(df.median())\n",
    "print(data4.head())\n",
    "data4.isnull().sum()"
   ]
  }
 ],
 "metadata": {
  "colab": {
   "authorship_tag": "ABX9TyOoTYOB7TWxFvk0Mw6+r3YW",
   "collapsed_sections": [],
   "name": "CS2004_LAB_2.ipynb",
   "provenance": []
  },
  "kernelspec": {
   "display_name": "Python 3 (ipykernel)",
   "language": "python",
   "name": "python3"
  },
  "language_info": {
   "codemirror_mode": {
    "name": "ipython",
    "version": 3
   },
   "file_extension": ".py",
   "mimetype": "text/x-python",
   "name": "python",
   "nbconvert_exporter": "python",
   "pygments_lexer": "ipython3",
   "version": "3.9.12"
  }
 },
 "nbformat": 4,
 "nbformat_minor": 1
}
