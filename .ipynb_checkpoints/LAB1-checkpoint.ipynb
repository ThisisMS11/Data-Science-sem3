{
 "cells": [
  {
   "cell_type": "code",
   "execution_count": null,
   "metadata": {
    "colab": {
     "base_uri": "https://localhost:8080/",
     "height": 38
    },
    "id": "Bm6hPDKFWlAs",
    "outputId": "1b7b6f71-207d-4f88-ab6e-0699acc9fa71"
   },
   "outputs": [
    {
     "data": {
      "text/html": [
       "<marquee style='width: 35%; color: green;'><b>Welcome to Data Science LAB</b></marquee>"
      ],
      "text/plain": [
       "<IPython.core.display.HTML object>"
      ]
     },
     "metadata": {},
     "output_type": "display_data"
    }
   ],
   "source": [
    "%%html\n",
    "<marquee style='width: 35%; color: green;'><b>Welcome to Data Science LAB</b></marquee>"
   ]
  },
  {
   "cell_type": "markdown",
   "metadata": {
    "id": "1f0iHFi0nkFQ"
   },
   "source": [
    "#Introduction to Python\n",
    "**Python invented by guido van Rossum, 1989**\n",
    "\n",
    "---\n",
    "\n",
    "\n",
    "\n",
    "# **Why Python**\n",
    "\n",
    "\n",
    "---\n",
    "\n",
    "\n",
    "\n",
    "\n",
    "1.   Beginner friendly\n",
    "2.   Versatile and flexible\n",
    "3.   Most popular in machine learning world\n",
    "4.   Most mature package libraries around\n",
    "\n",
    "\n",
    "---\n",
    "\n",
    "\n",
    "\n",
    "**According to 2019 rankings** \n",
    "\n",
    "  *Rank1 : Python*\n",
    "\n",
    "  *Rank2 : Java*\n",
    "\n",
    "  *Rank3 : Javascript*\n",
    "\n",
    "  *Rank4 : C#*\n",
    "\n",
    "  *Rank5 : PHP*\n",
    "\n",
    "  *Rank6 : C/C++*\n",
    "\n",
    "#Different IDE's available for Python:\n",
    "\n",
    "---\n",
    "\n",
    "\n",
    "\n",
    "*IDE --->  Integrated Development Environment*\n",
    "\n",
    " * Jupyter Notebook\n",
    " * PyCharm\n",
    " * Spyder\n",
    " * Canopy\n",
    " * VIM\n",
    " * ATOM\n",
    " * ...."
   ]
  },
  {
   "cell_type": "markdown",
   "metadata": {
    "id": "a6VEFPNKsPvY"
   },
   "source": [
    "#**Few example python concepts**"
   ]
  },
  {
   "cell_type": "code",
   "execution_count": null,
   "metadata": {
    "colab": {
     "base_uri": "https://localhost:8080/"
    },
    "id": "Zav7FnIQngv6",
    "outputId": "def7b3c3-c8da-4d95-b52a-816f0008bdbc"
   },
   "outputs": [
    {
     "data": {
      "text/plain": [
       "5"
      ]
     },
     "execution_count": 1,
     "metadata": {},
     "output_type": "execute_result"
    }
   ],
   "source": [
    "2 + 3"
   ]
  },
  {
   "cell_type": "code",
   "execution_count": null,
   "metadata": {
    "colab": {
     "base_uri": "https://localhost:8080/"
    },
    "id": "36ZbpOLSsULO",
    "outputId": "9b5ab996-460f-4558-ca2b-a595819cd0fe"
   },
   "outputs": [
    {
     "data": {
      "text/plain": [
       "5"
      ]
     },
     "execution_count": 2,
     "metadata": {},
     "output_type": "execute_result"
    }
   ],
   "source": [
    "_"
   ]
  },
  {
   "cell_type": "code",
   "execution_count": null,
   "metadata": {
    "colab": {
     "base_uri": "https://localhost:8080/"
    },
    "id": "nIC9bVWksXVl",
    "outputId": "308d46a0-efc8-438c-b635-844fd6eea9dd"
   },
   "outputs": [
    {
     "data": {
      "text/plain": [
       "63"
      ]
     },
     "execution_count": 3,
     "metadata": {},
     "output_type": "execute_result"
    }
   ],
   "source": [
    "9 * 7"
   ]
  },
  {
   "cell_type": "code",
   "execution_count": null,
   "metadata": {
    "colab": {
     "base_uri": "https://localhost:8080/"
    },
    "id": "3QGQeD54savF",
    "outputId": "d817dda9-674a-48c4-de92-e9cc7c904621"
   },
   "outputs": [
    {
     "data": {
      "text/plain": [
       "-16.0"
      ]
     },
     "execution_count": 4,
     "metadata": {},
     "output_type": "execute_result"
    }
   ],
   "source": [
    "45-(8*7)-10/2"
   ]
  },
  {
   "cell_type": "code",
   "execution_count": null,
   "metadata": {
    "colab": {
     "base_uri": "https://localhost:8080/"
    },
    "id": "abpAKZXRshKd",
    "outputId": "150b9bfc-79b3-4179-dcd4-d4ee7a2d7657"
   },
   "outputs": [
    {
     "data": {
      "text/plain": [
       "-16.0"
      ]
     },
     "execution_count": 5,
     "metadata": {},
     "output_type": "execute_result"
    }
   ],
   "source": [
    "_"
   ]
  },
  {
   "cell_type": "markdown",
   "metadata": {
    "id": "WakRWAarua1c"
   },
   "source": [
    "# **Displaying output and its variations**"
   ]
  },
  {
   "cell_type": "code",
   "execution_count": null,
   "metadata": {
    "colab": {
     "base_uri": "https://localhost:8080/"
    },
    "id": "U7RHE_hkuck2",
    "outputId": "1a13eaf1-5991-4663-de78-9eaa2fc973dc"
   },
   "outputs": [
    {
     "name": "stdout",
     "output_type": "stream",
     "text": [
      "CS2004\n"
     ]
    }
   ],
   "source": [
    "print('CS2004')"
   ]
  },
  {
   "cell_type": "code",
   "execution_count": null,
   "metadata": {
    "colab": {
     "base_uri": "https://localhost:8080/"
    },
    "id": "y7h2hiu5uh6V",
    "outputId": "3e5746bd-f439-451d-c5c1-6d678b65d23a"
   },
   "outputs": [
    {
     "name": "stdout",
     "output_type": "stream",
     "text": [
      "CS2004\n"
     ]
    }
   ],
   "source": [
    "print(\"CS2004\")"
   ]
  },
  {
   "cell_type": "code",
   "execution_count": null,
   "metadata": {
    "colab": {
     "base_uri": "https://localhost:8080/"
    },
    "id": "eRx6_guCukxl",
    "outputId": "216ff29e-9447-4cfa-9935-148491c664e1"
   },
   "outputs": [
    {
     "name": "stdout",
     "output_type": "stream",
     "text": [
      "I like 'MIB4'\n",
      "I like \"MIB4\"\n"
     ]
    }
   ],
   "source": [
    "print(\"I like 'MIB4'\")\n",
    "print('I like \"MIB4\"')"
   ]
  },
  {
   "cell_type": "markdown",
   "metadata": {
    "id": "d7T4Cj5ksmwB"
   },
   "source": [
    "#**Variables and Operators**\n",
    "\n",
    "\n",
    "*Variable is a description of data, that you want to use in your program*\n",
    "\n",
    " * Variable is container and it holds the values, charcters, etc. \n",
    " * The variable name should not start with number.\n",
    " * The variable name should not contain operators. \n"
   ]
  },
  {
   "cell_type": "code",
   "execution_count": null,
   "metadata": {
    "id": "PhS61-yAstBs"
   },
   "outputs": [],
   "source": [
    "x = 2                 #int\n",
    "y = 5                 #int\n",
    "xy = 7.2              #float"
   ]
  },
  {
   "cell_type": "code",
   "execution_count": null,
   "metadata": {
    "colab": {
     "base_uri": "https://localhost:8080/"
    },
    "id": "5knXTSBCs8oU",
    "outputId": "24a1b99f-006e-4f86-ebc7-8da8e23e97e4"
   },
   "outputs": [
    {
     "name": "stdout",
     "output_type": "stream",
     "text": [
      "<class 'int'>\n",
      "<class 'int'>\n"
     ]
    }
   ],
   "source": [
    "print(type(x))\n",
    "print(type(y))"
   ]
  },
  {
   "cell_type": "markdown",
   "metadata": {
    "id": "CyYwPKFltH8z"
   },
   "source": [
    "**Multiple Assignments**"
   ]
  },
  {
   "cell_type": "code",
   "execution_count": null,
   "metadata": {
    "id": "HTFup4ejtB1U"
   },
   "outputs": [],
   "source": [
    "a, b = 4, 5.0"
   ]
  },
  {
   "cell_type": "code",
   "execution_count": null,
   "metadata": {
    "colab": {
     "base_uri": "https://localhost:8080/"
    },
    "id": "-Ah9in50vKRB",
    "outputId": "8b4b24c2-755b-4a65-b7d5-d0447b48a64f"
   },
   "outputs": [
    {
     "name": "stdout",
     "output_type": "stream",
     "text": [
      "Variable   Type     Data/Info\n",
      "-----------------------------\n",
      "a          int      4\n",
      "b          float    5.0\n",
      "x          int      2\n",
      "xy         float    7.2\n",
      "y          int      5\n"
     ]
    }
   ],
   "source": [
    "%whos"
   ]
  },
  {
   "cell_type": "code",
   "execution_count": null,
   "metadata": {
    "id": "2OuYlC9JvK9g"
   },
   "outputs": [],
   "source": [
    "del a"
   ]
  },
  {
   "cell_type": "code",
   "execution_count": null,
   "metadata": {
    "colab": {
     "base_uri": "https://localhost:8080/"
    },
    "id": "JZFmBXzpvTVh",
    "outputId": "75e34470-75ba-42c5-a659-403a72458bc1"
   },
   "outputs": [
    {
     "name": "stdout",
     "output_type": "stream",
     "text": [
      "Variable   Type     Data/Info\n",
      "-----------------------------\n",
      "b          float    5.0\n",
      "x          int      2\n",
      "xy         float    7.2\n",
      "y          int      5\n"
     ]
    }
   ],
   "source": [
    "%whos"
   ]
  },
  {
   "cell_type": "code",
   "execution_count": null,
   "metadata": {
    "colab": {
     "base_uri": "https://localhost:8080/",
     "height": 164
    },
    "id": "7zpW01WtvUvo",
    "outputId": "3dcfebd2-ee44-4c44-b516-d07a5eead7b2"
   },
   "outputs": [
    {
     "ename": "NameError",
     "evalue": "ignored",
     "output_type": "error",
     "traceback": [
      "\u001b[0;31m---------------------------------------------------------------------------\u001b[0m",
      "\u001b[0;31mNameError\u001b[0m                                 Traceback (most recent call last)",
      "\u001b[0;32m<ipython-input-17-bca0e2660b9f>\u001b[0m in \u001b[0;36m<module>\u001b[0;34m()\u001b[0m\n\u001b[0;32m----> 1\u001b[0;31m \u001b[0mprint\u001b[0m\u001b[0;34m(\u001b[0m\u001b[0ma\u001b[0m\u001b[0;34m)\u001b[0m\u001b[0;34m\u001b[0m\u001b[0;34m\u001b[0m\u001b[0m\n\u001b[0m",
      "\u001b[0;31mNameError\u001b[0m: name 'a' is not defined"
     ]
    }
   ],
   "source": [
    "print(a)"
   ]
  },
  {
   "cell_type": "code",
   "execution_count": null,
   "metadata": {
    "colab": {
     "base_uri": "https://localhost:8080/"
    },
    "id": "jD2ZPasVvmB7",
    "outputId": "c4a4684b-1870-49ad-ad83-425bf2ace2b9"
   },
   "outputs": [
    {
     "name": "stdout",
     "output_type": "stream",
     "text": [
      "<class 'complex'>\n"
     ]
    }
   ],
   "source": [
    "c = 2 +4j\n",
    "print(type(c))"
   ]
  },
  {
   "cell_type": "code",
   "execution_count": null,
   "metadata": {
    "colab": {
     "base_uri": "https://localhost:8080/"
    },
    "id": "6ZSwnzG3vfA7",
    "outputId": "508eb1d0-8215-438a-b0c2-0e151214c94b"
   },
   "outputs": [
    {
     "name": "stdout",
     "output_type": "stream",
     "text": [
      "<class 'str'>\n",
      "Hello, Welcome to Data Science\n",
      "Hello, Welcome to Data Science1\n"
     ]
    }
   ],
   "source": [
    "s = \"Hello, Welcome to Data Science\"\n",
    "\n",
    "S = 'Hello, Welcome to Data Science1'\n",
    "\n",
    "print(type(s))\n",
    "\n",
    "print(s)\n",
    "\n",
    "print(S)"
   ]
  },
  {
   "cell_type": "markdown",
   "metadata": {
    "id": "44_85jKGwJUO"
   },
   "source": [
    "#**Operators**\n",
    "\n",
    "---\n",
    "\n",
    "Operator  | Operation\n",
    "-------------------|------------------\n",
    "+     | Addition\n",
    "-      | Subtraction \n",
    "/     | Division\n",
    "%      | Mod\n",
    "*     | Multiplication\n",
    "//     | Floor Division\n",
    "**     | To the power of"
   ]
  },
  {
   "cell_type": "code",
   "execution_count": null,
   "metadata": {
    "colab": {
     "base_uri": "https://localhost:8080/"
    },
    "id": "HmBJZoiwwB72",
    "outputId": "72544b65-6f06-48ec-dd4d-a6a06518ee93"
   },
   "outputs": [
    {
     "name": "stdout",
     "output_type": "stream",
     "text": [
      "Data Science LAB\n"
     ]
    }
   ],
   "source": [
    "S1 = \"Data Science\"\n",
    "\n",
    "S2 = \" LAB\"\n",
    "\n",
    "S3 = S1 + S2\n",
    "\n",
    "print(S3)"
   ]
  },
  {
   "cell_type": "code",
   "execution_count": null,
   "metadata": {
    "colab": {
     "base_uri": "https://localhost:8080/",
     "height": 198
    },
    "id": "b-631TIHxY-w",
    "outputId": "02edc8fa-cc6a-4b8d-ee85-171b8d7fd664"
   },
   "outputs": [
    {
     "ename": "TypeError",
     "evalue": "ignored",
     "output_type": "error",
     "traceback": [
      "\u001b[0;31m---------------------------------------------------------------------------\u001b[0m",
      "\u001b[0;31mTypeError\u001b[0m                                 Traceback (most recent call last)",
      "\u001b[0;32m<ipython-input-22-977cd0f24467>\u001b[0m in \u001b[0;36m<module>\u001b[0;34m()\u001b[0m\n\u001b[1;32m      1\u001b[0m \u001b[0ms1\u001b[0m \u001b[0;34m=\u001b[0m \u001b[0;34m\"data\"\u001b[0m\u001b[0;34m\u001b[0m\u001b[0;34m\u001b[0m\u001b[0m\n\u001b[1;32m      2\u001b[0m \u001b[0ms2\u001b[0m \u001b[0;34m=\u001b[0m \u001b[0;36m5\u001b[0m\u001b[0;34m\u001b[0m\u001b[0;34m\u001b[0m\u001b[0m\n\u001b[0;32m----> 3\u001b[0;31m \u001b[0mprint\u001b[0m\u001b[0;34m(\u001b[0m\u001b[0ms1\u001b[0m\u001b[0;34m+\u001b[0m\u001b[0ms2\u001b[0m\u001b[0;34m)\u001b[0m\u001b[0;34m\u001b[0m\u001b[0;34m\u001b[0m\u001b[0m\n\u001b[0m",
      "\u001b[0;31mTypeError\u001b[0m: can only concatenate str (not \"int\") to str"
     ]
    }
   ],
   "source": [
    "s1 = \"data\"\n",
    "s2 = 5\n",
    "print(s1+s2)"
   ]
  },
  {
   "cell_type": "code",
   "execution_count": null,
   "metadata": {
    "colab": {
     "base_uri": "https://localhost:8080/"
    },
    "id": "Rj45aaHJxhXT",
    "outputId": "baa47be7-a237-4e5c-9341-e6c836713c53"
   },
   "outputs": [
    {
     "name": "stdout",
     "output_type": "stream",
     "text": [
      "16\n"
     ]
    }
   ],
   "source": [
    "print(len(S3))"
   ]
  },
  {
   "cell_type": "markdown",
   "metadata": {
    "id": "F-hgTyskxqPF"
   },
   "source": [
    "**keywords can not be variable names**"
   ]
  },
  {
   "cell_type": "code",
   "execution_count": null,
   "metadata": {
    "colab": {
     "base_uri": "https://localhost:8080/"
    },
    "id": "s7kQ_5Fuxowq",
    "outputId": "e1d534cb-bf59-447d-a367-d90aa99d030d"
   },
   "outputs": [
    {
     "name": "stdout",
     "output_type": "stream",
     "text": [
      "9 10\n"
     ]
    }
   ],
   "source": [
    "int = 9\n",
    "float = 10\n",
    "print(int, float)"
   ]
  },
  {
   "cell_type": "code",
   "execution_count": null,
   "metadata": {
    "colab": {
     "base_uri": "https://localhost:8080/"
    },
    "id": "RPe7D_oqx1fV",
    "outputId": "faea167a-5eee-4e65-9f72-4efc9a1f674b"
   },
   "outputs": [
    {
     "name": "stdout",
     "output_type": "stream",
     "text": [
      "['False', 'None', 'True', 'and', 'as', 'assert', 'async', 'await', 'break', 'class', 'continue', 'def', 'del', 'elif', 'else', 'except', 'finally', 'for', 'from', 'global', 'if', 'import', 'in', 'is', 'lambda', 'nonlocal', 'not', 'or', 'pass', 'raise', 'return', 'try', 'while', 'with', 'yield']\n"
     ]
    }
   ],
   "source": [
    "import keyword\n",
    "\n",
    "print(keyword.kwlist)"
   ]
  },
  {
   "cell_type": "markdown",
   "metadata": {
    "id": "MS9UeL1uyq9r"
   },
   "source": [
    "#**Booleans and Comparisons in Python**\n",
    "---\n",
    "\n",
    "Operator  | Operation\n",
    "-------------------|------------------\n",
    "==     | True, if it is equal\n",
    "!=      | True, if it is not equal \n",
    "<     | Less than\n",
    ">      | Greater than\n",
    "<=    | Less tha or Equal to\n",
    ">=     | Greater than or equal to"
   ]
  },
  {
   "cell_type": "code",
   "execution_count": null,
   "metadata": {
    "id": "sWmkG77_yqeu"
   },
   "outputs": [],
   "source": [
    "a = True\n",
    "b = True\n",
    "c = False"
   ]
  },
  {
   "cell_type": "code",
   "execution_count": null,
   "metadata": {
    "colab": {
     "base_uri": "https://localhost:8080/"
    },
    "id": "UAJkXztyy80S",
    "outputId": "91d14ba3-332c-4c72-9919-ceba3d49b120"
   },
   "outputs": [
    {
     "name": "stdout",
     "output_type": "stream",
     "text": [
      "Variable   Type      Data/Info\n",
      "------------------------------\n",
      "S          str       Hello, Welcome to Data Science1\n",
      "S1         str       Data Science\n",
      "S2         str        LAB\n",
      "S3         str       Data Science LAB\n",
      "a          bool      True\n",
      "b          bool      True\n",
      "c          bool      False\n",
      "float      int       10\n",
      "int        int       9\n",
      "keyword    module    <module 'keyword' from '/<...>ib/python3.7/keyword.py'>\n",
      "s          str       Hello, Welcome to Data Science\n",
      "s1         str       data\n",
      "s2         int       5\n",
      "x          int       2\n",
      "xy         float     7.2\n",
      "y          int       5\n"
     ]
    }
   ],
   "source": [
    "%whos"
   ]
  },
  {
   "cell_type": "markdown",
   "metadata": {
    "id": "b7pOwAhfzMYG"
   },
   "source": [
    "**AND**\n",
    "\n",
    "|A  | B | A and B |\n",
    "|---|---|----|\n",
    "| True   | True | True |\n",
    "| False     | True | False | \n",
    "| True    | False | False |\n",
    "| False      | False | False |\n"
   ]
  },
  {
   "cell_type": "code",
   "execution_count": null,
   "metadata": {
    "colab": {
     "base_uri": "https://localhost:8080/"
    },
    "id": "WrvB2_WczQFZ",
    "outputId": "796137a1-a01b-443c-cb8d-060df504d095"
   },
   "outputs": [
    {
     "name": "stdout",
     "output_type": "stream",
     "text": [
      "True\n",
      "False\n",
      "False\n",
      "False\n"
     ]
    }
   ],
   "source": [
    "print(a and b)\n",
    "\n",
    "print(a and c)\n",
    "\n",
    "print(b and c)\n",
    "\n",
    "print(not(a))"
   ]
  },
  {
   "cell_type": "markdown",
   "metadata": {
    "id": "K60yz_FnzTVJ"
   },
   "source": [
    "**OR**\n",
    "\n",
    "|A  | B | A or B |\n",
    "|---|---|----|\n",
    "| True   | True | True |\n",
    "| False     | True | True | \n",
    "| True    | False | True |\n",
    "| False      | False | False |"
   ]
  },
  {
   "cell_type": "code",
   "execution_count": null,
   "metadata": {
    "colab": {
     "base_uri": "https://localhost:8080/"
    },
    "id": "E5e-7BH1zCZk",
    "outputId": "90cb69c6-a5bc-467b-8ff4-1413da3440b9"
   },
   "outputs": [
    {
     "data": {
      "text/plain": [
       "False"
      ]
     },
     "execution_count": 30,
     "metadata": {},
     "output_type": "execute_result"
    }
   ],
   "source": [
    "d = True\n",
    "\n",
    "not ((a and b) or (c and d))"
   ]
  },
  {
   "cell_type": "markdown",
   "metadata": {
    "id": "Sz_usYsvzpY7"
   },
   "source": [
    "**Comparisions**"
   ]
  },
  {
   "cell_type": "code",
   "execution_count": null,
   "metadata": {
    "colab": {
     "base_uri": "https://localhost:8080/"
    },
    "id": "j3hf_PoozDiy",
    "outputId": "03e83b8b-abe4-47c2-ee39-b5543f0e7092"
   },
   "outputs": [
    {
     "data": {
      "text/plain": [
       "True"
      ]
     },
     "execution_count": 31,
     "metadata": {},
     "output_type": "execute_result"
    }
   ],
   "source": [
    "3 == 3.0"
   ]
  },
  {
   "cell_type": "code",
   "execution_count": null,
   "metadata": {
    "colab": {
     "base_uri": "https://localhost:8080/"
    },
    "id": "5Qm7gsCezsXN",
    "outputId": "54da9010-5a7e-4c7b-e68d-142a7418c09b"
   },
   "outputs": [
    {
     "data": {
      "text/plain": [
       "True"
      ]
     },
     "execution_count": 32,
     "metadata": {},
     "output_type": "execute_result"
    }
   ],
   "source": [
    "x = 4\n",
    "y = 9\n",
    "z = 8.3\n",
    "r = -3\n",
    "\n",
    "(x < y) and (z < y) or (r == x)"
   ]
  },
  {
   "cell_type": "markdown",
   "metadata": {
    "id": "jgIR7-TJz4fF"
   },
   "source": [
    "#**Some useful Functions**"
   ]
  },
  {
   "cell_type": "markdown",
   "metadata": {
    "id": "LBlHCrTp0HTH"
   },
   "source": [
    "**round()** ---> Function rounds the input value to a specified number of places or to be the nearest integer "
   ]
  },
  {
   "cell_type": "code",
   "execution_count": null,
   "metadata": {
    "colab": {
     "base_uri": "https://localhost:8080/"
    },
    "id": "gOdfZqnJzsiQ",
    "outputId": "d8816a12-4b4f-4a16-cb7b-3a96404159fa"
   },
   "outputs": [
    {
     "name": "stdout",
     "output_type": "stream",
     "text": [
      "6\n"
     ]
    }
   ],
   "source": [
    "print(round(6.4231))"
   ]
  },
  {
   "cell_type": "code",
   "execution_count": null,
   "metadata": {
    "colab": {
     "base_uri": "https://localhost:8080/"
    },
    "id": "bu-KiQN40NbW",
    "outputId": "c38a8886-eeb1-4908-b30b-2024e3da84a3"
   },
   "outputs": [
    {
     "name": "stdout",
     "output_type": "stream",
     "text": [
      "4.555556\n"
     ]
    }
   ],
   "source": [
    "print(round(4.555555842, 6))"
   ]
  },
  {
   "cell_type": "markdown",
   "metadata": {
    "id": "qQx-M-8v00Og"
   },
   "source": [
    "**divmod(x, y)** ---> Outputs the quotient and the remainder in a tuple"
   ]
  },
  {
   "cell_type": "code",
   "execution_count": null,
   "metadata": {
    "colab": {
     "base_uri": "https://localhost:8080/"
    },
    "id": "JDBdOtrW01Zu",
    "outputId": "74bf03c4-d26e-479e-9d24-f474e7abc330"
   },
   "outputs": [
    {
     "data": {
      "text/plain": [
       "(5, 2)"
      ]
     },
     "execution_count": 35,
     "metadata": {},
     "output_type": "execute_result"
    }
   ],
   "source": [
    "divmod(27, 5)"
   ]
  },
  {
   "cell_type": "markdown",
   "metadata": {
    "id": "TPlDTqt11Ak4"
   },
   "source": [
    "#**User defined functions**"
   ]
  },
  {
   "cell_type": "code",
   "execution_count": null,
   "metadata": {
    "id": "PcgwZBSf0_7h"
   },
   "outputs": [],
   "source": [
    "def printSuccess():\n",
    "  print(\"I am Done\")\n",
    "  print(\"Send me another task\")\n",
    "\n",
    "\n",
    "printSuccess()"
   ]
  },
  {
   "cell_type": "code",
   "execution_count": null,
   "metadata": {
    "id": "0gzIDr3M1Qgd"
   },
   "outputs": [],
   "source": [
    "def calculateSum(a,b):\n",
    "    return a+b\n",
    "\n",
    "print(calculateSum(234,56))\n",
    "print(calculateSum(34.2,6.4))  \n",
    "print(calculateSum('text1','text2'))"
   ]
  },
  {
   "cell_type": "code",
   "execution_count": null,
   "metadata": {
    "id": "TvVQENCG1V0G"
   },
   "outputs": [],
   "source": [
    "def fun1(count):\n",
    "    count = count +1\n",
    "    print('in side function1--')\n",
    "    if count < 10:\n",
    "        fun1(count)\n",
    "        \n",
    "fun1(5)"
   ]
  },
  {
   "cell_type": "markdown",
   "metadata": {
    "id": "ti7oVXoS1c4x"
   },
   "source": [
    "#**Control Flow statements**"
   ]
  },
  {
   "cell_type": "markdown",
   "metadata": {
    "id": "g3NIZHjF2icG"
   },
   "source": [
    "**If**"
   ]
  },
  {
   "cell_type": "code",
   "execution_count": null,
   "metadata": {
    "colab": {
     "base_uri": "https://localhost:8080/"
    },
    "id": "KcnC2ecG1fdr",
    "outputId": "05667046-65cb-4a49-ac0d-b5f78656975b"
   },
   "outputs": [
    {
     "name": "stdout",
     "output_type": "stream",
     "text": [
      "Enter the 'a' value: 10\n",
      "Enter the 'b' value: 20\n",
      "b is greater than a and value is:  20\n"
     ]
    }
   ],
   "source": [
    "a = int(input(\"Enter the 'a' value: \"))\n",
    "\n",
    "b = int(input(\"Enter the 'b' value: \"))\n",
    "\n",
    "if b > a:\n",
    "  print(\"b is greater than a and value is: \", b)\n",
    "else:\n",
    "  print(\"a is greater than b and value is: \", a)"
   ]
  },
  {
   "cell_type": "markdown",
   "metadata": {
    "id": "4ruTtGER2e8B"
   },
   "source": [
    "**If-elif-else**"
   ]
  },
  {
   "cell_type": "code",
   "execution_count": null,
   "metadata": {
    "id": "fiS19n4p1qEz"
   },
   "outputs": [],
   "source": [
    "a = int(input(\"Enter the 'a' value: \"))\n",
    "\n",
    "b = int(input(\"Enter the 'b' value: \"))\n",
    "\n",
    "if b > a:\n",
    "  print(\"b is greater than a and value is: \", b)\n",
    "elif a == b:\n",
    "  print(\"a and b and valuea are equal\")\n",
    "else:\n",
    "  print(\"a is greater than b and value is: \", a)"
   ]
  },
  {
   "cell_type": "markdown",
   "metadata": {
    "id": "7836axot2mX5"
   },
   "source": [
    "**Nested-if**"
   ]
  },
  {
   "cell_type": "code",
   "execution_count": null,
   "metadata": {
    "id": "z_b4BmjH1sz6"
   },
   "outputs": [],
   "source": [
    "a = int(input(\"Enter the a number: \"))\n",
    "\n",
    "if a > 10:\n",
    "  print(\"Your number is above 10\")\n",
    "  if a > 20:\n",
    "    print(\"and also above 20!\")\n",
    "  else:\n",
    "    print(\"But not above 20.\")"
   ]
  },
  {
   "cell_type": "markdown",
   "metadata": {
    "id": "SuKpj9r71zto"
   },
   "source": [
    "# Question 1 \n",
    "User will enter a floating point number let say -238.915 your task is to find out the integer portion before the point (in this case -238) and then check if that integer portion is even or not? "
   ]
  },
  {
   "cell_type": "markdown",
   "metadata": {
    "id": "DlP6PyWc1z3t"
   },
   "source": [
    "#**Loops**\n",
    "\n",
    "**while**"
   ]
  },
  {
   "cell_type": "code",
   "execution_count": null,
   "metadata": {
    "id": "xW1sZGu819Tm"
   },
   "outputs": [],
   "source": [
    "n = int(input(\"Max iterations: \"))\n",
    "\n",
    "i = 1\n",
    "while (i < n):\n",
    "  print(i**2)\n",
    "  print(\"This is iteration number: \", i)\n",
    "  i = i + 1\n",
    "print(\"Loop End\") "
   ]
  },
  {
   "cell_type": "markdown",
   "metadata": {
    "id": "ZnJAGGEu2Oox"
   },
   "source": [
    "**For loop**"
   ]
  },
  {
   "cell_type": "code",
   "execution_count": null,
   "metadata": {
    "id": "WKI4L1Y82SJT"
   },
   "outputs": [],
   "source": [
    "# for itr in range(0,10):\n",
    "for itr in range(10,0,-1):\n",
    "    print('loop',itr)"
   ]
  }
 ],
 "metadata": {
  "colab": {
   "collapsed_sections": [],
   "name": "LAB1.ipynb",
   "provenance": []
  },
  "kernelspec": {
   "display_name": "Python 3 (ipykernel)",
   "language": "python",
   "name": "python3"
  },
  "language_info": {
   "codemirror_mode": {
    "name": "ipython",
    "version": 3
   },
   "file_extension": ".py",
   "mimetype": "text/x-python",
   "name": "python",
   "nbconvert_exporter": "python",
   "pygments_lexer": "ipython3",
   "version": "3.9.12"
  },
  "vscode": {
   "interpreter": {
    "hash": "33c99ce92ae57a37c90157b7c35934b668ba43f0729fdf7df53b30c6721ba8f2"
   }
  }
 },
 "nbformat": 4,
 "nbformat_minor": 1
}
