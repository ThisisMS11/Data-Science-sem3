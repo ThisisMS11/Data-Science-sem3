{
 "cells": [
  {
   "cell_type": "markdown",
   "id": "1de53efa",
   "metadata": {},
   "source": [
    "## 1. A complaint was registered stating that the boys in the municipal schools were underfed. Averageweight of boys of age 10, is 32 kgs with standard deviation of 9 kgs. A sample of 25 boys wasselected from the municipal school and the average was found to be 29.5 kgs. At 5% alpha level,check whether the complaint is true or not."
   ]
  },
  {
   "cell_type": "code",
   "execution_count": 1,
   "id": "bd00ff72",
   "metadata": {},
   "outputs": [
    {
     "name": "stdout",
     "output_type": "stream",
     "text": [
      "Enter the x : 29.5\n",
      "Enter the sd : 9\n",
      "enter u : 32\n",
      "Enter the sample size :25\n"
     ]
    }
   ],
   "source": [
    "import math\n",
    "x=float(input(\"Enter the x : \"))\n",
    "sd=float(input(\"Enter the sd : \"))\n",
    "u=float(input(\"enter u : \"))\n",
    "n=int(input(\"Enter the sample size :\"))"
   ]
  },
  {
   "cell_type": "code",
   "execution_count": 2,
   "id": "1eafa51f",
   "metadata": {},
   "outputs": [],
   "source": [
    "answer=(x-u)*math.sqrt(n)/sd"
   ]
  },
  {
   "cell_type": "code",
   "execution_count": 3,
   "id": "37a3884d",
   "metadata": {},
   "outputs": [
    {
     "data": {
      "text/plain": [
       "-1.3888888888888888"
      ]
     },
     "execution_count": 3,
     "metadata": {},
     "output_type": "execute_result"
    }
   ],
   "source": [
    "answer"
   ]
  },
  {
   "cell_type": "markdown",
   "id": "94c2df9d",
   "metadata": {},
   "source": [
    "## 2. Suppose your company wants to improve sales. Past sales data indicate that the average sale was 100 per transaction. After training your sales force, recent sales data (taken from a sample of 25salesmen) indicates an average sale of 130, with a standard deviation of 15. Did thtraining work?Test your hypothesis at a 5% alpha level."
   ]
  },
  {
   "cell_type": "code",
   "execution_count": 4,
   "id": "61fd2f38",
   "metadata": {},
   "outputs": [
    {
     "name": "stdout",
     "output_type": "stream",
     "text": [
      "Enter the x : 130\n",
      "Enter the sd : 15\n",
      "enter u : 100\n",
      "Enter the sample size :25\n"
     ]
    }
   ],
   "source": [
    "import math\n",
    "x=float(input(\"Enter the x : \"))\n",
    "sd=float(input(\"Enter the sd : \"))\n",
    "u=float(input(\"enter u : \"))\n",
    "n=int(input(\"Enter the sample size :\"))"
   ]
  },
  {
   "cell_type": "code",
   "execution_count": 5,
   "id": "ca36c98d",
   "metadata": {},
   "outputs": [],
   "source": [
    "answer=(x-u)*math.sqrt(n)/sd"
   ]
  },
  {
   "cell_type": "code",
   "execution_count": 6,
   "id": "5c7af982",
   "metadata": {},
   "outputs": [
    {
     "data": {
      "text/plain": [
       "10.0"
      ]
     },
     "execution_count": 6,
     "metadata": {},
     "output_type": "execute_result"
    }
   ],
   "source": [
    "answer"
   ]
  },
  {
   "cell_type": "markdown",
   "id": "8a4cb9e2",
   "metadata": {},
   "source": [
    "## Q4 Researchers want to test a new anti-hunger weight loss pill. They have 10 people rate their hungerbefore and after taking the pill. Does the pill do anything? Use alpha = 0.05"
   ]
  },
  {
   "cell_type": "code",
   "execution_count": 11,
   "id": "4f7b3d91",
   "metadata": {},
   "outputs": [],
   "source": [
    "before=[9,10,7,5,7,5,9,6,8,7]\n",
    "after=[7,6,5,4,4,6,7,5,5,7]"
   ]
  },
  {
   "cell_type": "code",
   "execution_count": 12,
   "id": "ab36ffe6",
   "metadata": {},
   "outputs": [],
   "source": [
    "before_mean=0\n",
    "for i in before:\n",
    "    before_mean=before_mean+i\n",
    "before_mean/=len(before)"
   ]
  },
  {
   "cell_type": "code",
   "execution_count": 13,
   "id": "dabd7cd5",
   "metadata": {},
   "outputs": [],
   "source": [
    "after_mean=0\n",
    "for i in after:\n",
    "    after_mean=after_mean+i\n",
    "    \n",
    "after_mean/=len(after)"
   ]
  },
  {
   "cell_type": "code",
   "execution_count": 16,
   "id": "3204b2c8",
   "metadata": {},
   "outputs": [],
   "source": [
    "dif=[]\n",
    "for i in range(len(before)):\n",
    "    dif.append(before[i]-after[i])   "
   ]
  },
  {
   "cell_type": "code",
   "execution_count": 19,
   "id": "453abfeb",
   "metadata": {},
   "outputs": [
    {
     "data": {
      "text/plain": [
       "[2, 4, 2, 1, 3, -1, 2, 1, 3, 0]"
      ]
     },
     "execution_count": 19,
     "metadata": {},
     "output_type": "execute_result"
    }
   ],
   "source": [
    "dif"
   ]
  },
  {
   "cell_type": "code",
   "execution_count": null,
   "id": "f3b7f0d4",
   "metadata": {},
   "outputs": [],
   "source": []
  }
 ],
 "metadata": {
  "kernelspec": {
   "display_name": "Python 3 (ipykernel)",
   "language": "python",
   "name": "python3"
  },
  "language_info": {
   "codemirror_mode": {
    "name": "ipython",
    "version": 3
   },
   "file_extension": ".py",
   "mimetype": "text/x-python",
   "name": "python",
   "nbconvert_exporter": "python",
   "pygments_lexer": "ipython3",
   "version": "3.9.12"
  }
 },
 "nbformat": 4,
 "nbformat_minor": 5
}
