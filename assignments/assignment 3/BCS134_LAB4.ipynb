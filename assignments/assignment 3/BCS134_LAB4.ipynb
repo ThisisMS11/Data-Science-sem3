{
 "cells": [
  {
   "cell_type": "code",
   "execution_count": 1,
   "id": "d2ea2200",
   "metadata": {},
   "outputs": [],
   "source": [
    "import numpy as np\n",
    "import pandas as pd\n",
    "import itertools\n",
    "\n",
    "\n"
   ]
  },
  {
   "cell_type": "markdown",
   "id": "2cafe792",
   "metadata": {},
   "source": [
    "# Generating the Sample Space using itertools"
   ]
  },
  {
   "cell_type": "code",
   "execution_count": 1,
   "id": "b089722d",
   "metadata": {},
   "outputs": [
    {
     "name": "stdout",
     "output_type": "stream",
     "text": [
      "Enter the number of times toss has to be made :- 4\n"
     ]
    },
    {
     "ename": "NameError",
     "evalue": "name 'itertools' is not defined",
     "output_type": "error",
     "traceback": [
      "\u001b[1;31m---------------------------------------------------------------------------\u001b[0m",
      "\u001b[1;31mNameError\u001b[0m                                 Traceback (most recent call last)",
      "Input \u001b[1;32mIn [1]\u001b[0m, in \u001b[0;36m<cell line: 2>\u001b[1;34m()\u001b[0m\n\u001b[0;32m      1\u001b[0m no\u001b[38;5;241m=\u001b[39m(\u001b[38;5;28mint\u001b[39m)(\u001b[38;5;28minput\u001b[39m(\u001b[38;5;124m\"\u001b[39m\u001b[38;5;124mEnter the number of times toss has to be made :- \u001b[39m\u001b[38;5;124m\"\u001b[39m))\n\u001b[1;32m----> 2\u001b[0m results\u001b[38;5;241m=\u001b[39m\u001b[38;5;28mlist\u001b[39m(\u001b[43mitertools\u001b[49m\u001b[38;5;241m.\u001b[39mproduct(\u001b[38;5;124m'\u001b[39m\u001b[38;5;124mTHH\u001b[39m\u001b[38;5;124m'\u001b[39m, repeat\u001b[38;5;241m=\u001b[39mno))\n\u001b[0;32m      3\u001b[0m total_sample\u001b[38;5;241m=\u001b[39m\u001b[38;5;241m2\u001b[39m\u001b[38;5;241m*\u001b[39m\u001b[38;5;241m*\u001b[39mno\n\u001b[0;32m      4\u001b[0m results\n",
      "\u001b[1;31mNameError\u001b[0m: name 'itertools' is not defined"
     ]
    }
   ],
   "source": [
    "no=(int)(input(\"Enter the number of times toss has to be made :- \"))\n",
    "results=list(itertools.product('THH', repeat=no))\n",
    "total_sample=2**no\n",
    "results"
   ]
  },
  {
   "cell_type": "code",
   "execution_count": 3,
   "id": "34b4d0ec",
   "metadata": {},
   "outputs": [
    {
     "name": "stdout",
     "output_type": "stream",
     "text": [
      "0 0.25\n",
      "1 0.5\n",
      "2 0.25\n"
     ]
    }
   ],
   "source": [
    "eY=0\n",
    "for i in range (no + 1):\n",
    "    fav_outcomes=[result for result in results if len(list(itertools.filterfalse(lambda x : x =='H', result)))==i]\n",
    "    prob=len(fav_outcomes)/total_sample\n",
    "    print(i,prob)\n",
    "    y=9*i*i\n",
    "    eY=eY + y*prob\n",
    "    "
   ]
  },
  {
   "cell_type": "code",
   "execution_count": 7,
   "id": "59207047",
   "metadata": {},
   "outputs": [
    {
     "name": "stdout",
     "output_type": "stream",
     "text": [
      "E[Y] =  13.5\n"
     ]
    }
   ],
   "source": [
    "print(\"E[Y] = \",eY)"
   ]
  },
  {
   "cell_type": "code",
   "execution_count": null,
   "id": "c2637e52",
   "metadata": {},
   "outputs": [],
   "source": []
  },
  {
   "cell_type": "code",
   "execution_count": 6,
   "id": "e2cb0069",
   "metadata": {},
   "outputs": [],
   "source": [
    "import random \n",
    "s5=[]\n",
    "for i in range(1,5):\n",
    "    s5.append(i)"
   ]
  },
  {
   "cell_type": "code",
   "execution_count": null,
   "id": "237daecf",
   "metadata": {},
   "outputs": [],
   "source": []
  }
 ],
 "metadata": {
  "kernelspec": {
   "display_name": "Python 3 (ipykernel)",
   "language": "python",
   "name": "python3"
  },
  "language_info": {
   "codemirror_mode": {
    "name": "ipython",
    "version": 3
   },
   "file_extension": ".py",
   "mimetype": "text/x-python",
   "name": "python",
   "nbconvert_exporter": "python",
   "pygments_lexer": "ipython3",
   "version": "3.9.12"
  }
 },
 "nbformat": 4,
 "nbformat_minor": 5
}
