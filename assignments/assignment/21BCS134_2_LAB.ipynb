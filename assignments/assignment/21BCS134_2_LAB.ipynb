{
 "cells": [
  {
   "cell_type": "code",
   "execution_count": 1,
   "id": "f2ad429f",
   "metadata": {},
   "outputs": [],
   "source": [
    "import pandas as pd\n",
    "import numpy as np"
   ]
  },
  {
   "cell_type": "markdown",
   "id": "f6543e6e",
   "metadata": {},
   "source": [
    "# 1) Load the \"Test.csv\" file."
   ]
  },
  {
   "cell_type": "code",
   "execution_count": 2,
   "id": "06e15bf6",
   "metadata": {},
   "outputs": [],
   "source": [
    "data=pd.read_csv('test.csv')"
   ]
  },
  {
   "cell_type": "code",
   "execution_count": 3,
   "id": "38650238",
   "metadata": {},
   "outputs": [
    {
     "data": {
      "text/html": [
       "<div>\n",
       "<style scoped>\n",
       "    .dataframe tbody tr th:only-of-type {\n",
       "        vertical-align: middle;\n",
       "    }\n",
       "\n",
       "    .dataframe tbody tr th {\n",
       "        vertical-align: top;\n",
       "    }\n",
       "\n",
       "    .dataframe thead th {\n",
       "        text-align: right;\n",
       "    }\n",
       "</style>\n",
       "<table border=\"1\" class=\"dataframe\">\n",
       "  <thead>\n",
       "    <tr style=\"text-align: right;\">\n",
       "      <th></th>\n",
       "      <th>6</th>\n",
       "      <th>148</th>\n",
       "      <th>72</th>\n",
       "      <th>35</th>\n",
       "      <th>Unnamed: 4</th>\n",
       "      <th>33.6</th>\n",
       "      <th>0.627</th>\n",
       "      <th>5</th>\n",
       "      <th>1</th>\n",
       "    </tr>\n",
       "  </thead>\n",
       "  <tbody>\n",
       "    <tr>\n",
       "      <th>0</th>\n",
       "      <td>1.0</td>\n",
       "      <td>85.0</td>\n",
       "      <td>66.0</td>\n",
       "      <td>29.0</td>\n",
       "      <td>NaN</td>\n",
       "      <td>26.6</td>\n",
       "      <td>0.351</td>\n",
       "      <td>31</td>\n",
       "      <td>0</td>\n",
       "    </tr>\n",
       "    <tr>\n",
       "      <th>1</th>\n",
       "      <td>8.0</td>\n",
       "      <td>183.0</td>\n",
       "      <td>64.0</td>\n",
       "      <td>NaN</td>\n",
       "      <td>NaN</td>\n",
       "      <td>23.3</td>\n",
       "      <td>0.672</td>\n",
       "      <td>32</td>\n",
       "      <td>1</td>\n",
       "    </tr>\n",
       "    <tr>\n",
       "      <th>2</th>\n",
       "      <td>1.0</td>\n",
       "      <td>89.0</td>\n",
       "      <td>66.0</td>\n",
       "      <td>23.0</td>\n",
       "      <td>94.0</td>\n",
       "      <td>28.1</td>\n",
       "      <td>0.167</td>\n",
       "      <td>21</td>\n",
       "      <td>0</td>\n",
       "    </tr>\n",
       "    <tr>\n",
       "      <th>3</th>\n",
       "      <td>NaN</td>\n",
       "      <td>137.0</td>\n",
       "      <td>4.0</td>\n",
       "      <td>35.0</td>\n",
       "      <td>168.0</td>\n",
       "      <td>43.1</td>\n",
       "      <td>2.288</td>\n",
       "      <td>33</td>\n",
       "      <td>1</td>\n",
       "    </tr>\n",
       "    <tr>\n",
       "      <th>4</th>\n",
       "      <td>5.0</td>\n",
       "      <td>116.0</td>\n",
       "      <td>74.0</td>\n",
       "      <td>NaN</td>\n",
       "      <td>NaN</td>\n",
       "      <td>25.6</td>\n",
       "      <td>0.210</td>\n",
       "      <td>3</td>\n",
       "      <td>0</td>\n",
       "    </tr>\n",
       "    <tr>\n",
       "      <th>...</th>\n",
       "      <td>...</td>\n",
       "      <td>...</td>\n",
       "      <td>...</td>\n",
       "      <td>...</td>\n",
       "      <td>...</td>\n",
       "      <td>...</td>\n",
       "      <td>...</td>\n",
       "      <td>...</td>\n",
       "      <td>...</td>\n",
       "    </tr>\n",
       "    <tr>\n",
       "      <th>762</th>\n",
       "      <td>1.0</td>\n",
       "      <td>11.0</td>\n",
       "      <td>76.0</td>\n",
       "      <td>48.0</td>\n",
       "      <td>18.0</td>\n",
       "      <td>32.9</td>\n",
       "      <td>0.171</td>\n",
       "      <td>63</td>\n",
       "      <td>0</td>\n",
       "    </tr>\n",
       "    <tr>\n",
       "      <th>763</th>\n",
       "      <td>2.0</td>\n",
       "      <td>122.0</td>\n",
       "      <td>7.0</td>\n",
       "      <td>27.0</td>\n",
       "      <td>NaN</td>\n",
       "      <td>36.8</td>\n",
       "      <td>0.340</td>\n",
       "      <td>27</td>\n",
       "      <td>0</td>\n",
       "    </tr>\n",
       "    <tr>\n",
       "      <th>764</th>\n",
       "      <td>5.0</td>\n",
       "      <td>121.0</td>\n",
       "      <td>72.0</td>\n",
       "      <td>23.0</td>\n",
       "      <td>112.0</td>\n",
       "      <td>26.2</td>\n",
       "      <td>0.245</td>\n",
       "      <td>3</td>\n",
       "      <td>0</td>\n",
       "    </tr>\n",
       "    <tr>\n",
       "      <th>765</th>\n",
       "      <td>1.0</td>\n",
       "      <td>126.0</td>\n",
       "      <td>6.0</td>\n",
       "      <td>NaN</td>\n",
       "      <td>NaN</td>\n",
       "      <td>3.1</td>\n",
       "      <td>0.349</td>\n",
       "      <td>47</td>\n",
       "      <td>1</td>\n",
       "    </tr>\n",
       "    <tr>\n",
       "      <th>766</th>\n",
       "      <td>1.0</td>\n",
       "      <td>93.0</td>\n",
       "      <td>7.0</td>\n",
       "      <td>31.0</td>\n",
       "      <td>NaN</td>\n",
       "      <td>3.4</td>\n",
       "      <td>0.315</td>\n",
       "      <td>23</td>\n",
       "      <td>0</td>\n",
       "    </tr>\n",
       "  </tbody>\n",
       "</table>\n",
       "<p>767 rows × 9 columns</p>\n",
       "</div>"
      ],
      "text/plain": [
       "       6    148    72    35  Unnamed: 4  33.6  0.627   5  1\n",
       "0    1.0   85.0  66.0  29.0         NaN  26.6  0.351  31  0\n",
       "1    8.0  183.0  64.0   NaN         NaN  23.3  0.672  32  1\n",
       "2    1.0   89.0  66.0  23.0        94.0  28.1  0.167  21  0\n",
       "3    NaN  137.0   4.0  35.0       168.0  43.1  2.288  33  1\n",
       "4    5.0  116.0  74.0   NaN         NaN  25.6  0.210   3  0\n",
       "..   ...    ...   ...   ...         ...   ...    ...  .. ..\n",
       "762  1.0   11.0  76.0  48.0        18.0  32.9  0.171  63  0\n",
       "763  2.0  122.0   7.0  27.0         NaN  36.8  0.340  27  0\n",
       "764  5.0  121.0  72.0  23.0       112.0  26.2  0.245   3  0\n",
       "765  1.0  126.0   6.0   NaN         NaN   3.1  0.349  47  1\n",
       "766  1.0   93.0   7.0  31.0         NaN   3.4  0.315  23  0\n",
       "\n",
       "[767 rows x 9 columns]"
      ]
     },
     "execution_count": 3,
     "metadata": {},
     "output_type": "execute_result"
    }
   ],
   "source": [
    "data"
   ]
  },
  {
   "cell_type": "markdown",
   "id": "4682800c",
   "metadata": {},
   "source": [
    "# 2 Replacing Nan values with third highest frequent"
   ]
  },
  {
   "cell_type": "code",
   "execution_count": 4,
   "id": "5eb5b8f8",
   "metadata": {},
   "outputs": [
    {
     "data": {
      "text/plain": [
       "1.0    159\n",
       "2.0    103\n",
       "3.0     75\n",
       "Name: 6, dtype: int64"
      ]
     },
     "execution_count": 4,
     "metadata": {},
     "output_type": "execute_result"
    }
   ],
   "source": [
    "data['6'].value_counts().nlargest(3)"
   ]
  },
  {
   "cell_type": "code",
   "execution_count": 5,
   "id": "85f4568c",
   "metadata": {},
   "outputs": [],
   "source": [
    "#df['DataFrame Column'] = df['DataFrame Column'].replace(np.nan, 0)\n",
    "data['6']=data['6'].replace(np.nan, 1.0)"
   ]
  },
  {
   "cell_type": "code",
   "execution_count": 6,
   "id": "77eddd52",
   "metadata": {},
   "outputs": [
    {
     "data": {
      "text/plain": [
       "12.0    24\n",
       "18.0    18\n",
       "99.0    17\n",
       "Name: 148, dtype: int64"
      ]
     },
     "execution_count": 6,
     "metadata": {},
     "output_type": "execute_result"
    }
   ],
   "source": [
    "data['148'].value_counts().nlargest(3)"
   ]
  },
  {
   "cell_type": "code",
   "execution_count": 7,
   "id": "1bbcce3f",
   "metadata": {},
   "outputs": [],
   "source": [
    "data['148']=data['148'].replace(np.nan, 12.0)"
   ]
  },
  {
   "cell_type": "code",
   "execution_count": 8,
   "id": "c281281b",
   "metadata": {},
   "outputs": [
    {
     "data": {
      "text/plain": [
       "7.0     57\n",
       "74.0    52\n",
       "78.0    45\n",
       "Name: 72, dtype: int64"
      ]
     },
     "execution_count": 8,
     "metadata": {},
     "output_type": "execute_result"
    }
   ],
   "source": [
    "data['72'].value_counts().nlargest(3)"
   ]
  },
  {
   "cell_type": "code",
   "execution_count": 9,
   "id": "b65cda79",
   "metadata": {},
   "outputs": [],
   "source": [
    "data['72']=data['72'].replace(np.nan, 7.0)"
   ]
  },
  {
   "cell_type": "code",
   "execution_count": 10,
   "id": "e172e5b2",
   "metadata": {},
   "outputs": [
    {
     "data": {
      "text/plain": [
       "32.0    31\n",
       "3.0     27\n",
       "27.0    23\n",
       "Name: 35, dtype: int64"
      ]
     },
     "execution_count": 10,
     "metadata": {},
     "output_type": "execute_result"
    }
   ],
   "source": [
    "data['35'].value_counts().nlargest(3)"
   ]
  },
  {
   "cell_type": "code",
   "execution_count": 11,
   "id": "ef402aa6",
   "metadata": {},
   "outputs": [],
   "source": [
    "data['35']=data['35'].replace(np.nan, 32.0)"
   ]
  },
  {
   "cell_type": "code",
   "execution_count": 12,
   "id": "533a06d7",
   "metadata": {},
   "outputs": [
    {
     "data": {
      "text/plain": [
       "15.0    14\n",
       "14.0    10\n",
       "18.0    10\n",
       "Name: Unnamed: 4, dtype: int64"
      ]
     },
     "execution_count": 12,
     "metadata": {},
     "output_type": "execute_result"
    }
   ],
   "source": [
    "data['Unnamed: 4'].value_counts().nlargest(3)"
   ]
  },
  {
   "cell_type": "code",
   "execution_count": 13,
   "id": "97a9fa4b",
   "metadata": {},
   "outputs": [],
   "source": [
    "data['Unnamed: 4']=data['Unnamed: 4'].replace(np.nan, 15.0)"
   ]
  },
  {
   "cell_type": "code",
   "execution_count": 14,
   "id": "3c55f8aa",
   "metadata": {},
   "outputs": [
    {
     "data": {
      "text/plain": [
       "32.0    13\n",
       "31.2    12\n",
       "31.6    12\n",
       "Name: 33.6, dtype: int64"
      ]
     },
     "execution_count": 14,
     "metadata": {},
     "output_type": "execute_result"
    }
   ],
   "source": [
    "data['33.6'].value_counts().nlargest(3)"
   ]
  },
  {
   "cell_type": "code",
   "execution_count": 15,
   "id": "f68302a0",
   "metadata": {},
   "outputs": [],
   "source": [
    "data['33.6']=data['33.6'].replace(np.nan, 32.0)"
   ]
  },
  {
   "cell_type": "code",
   "execution_count": 16,
   "id": "66bb70aa",
   "metadata": {},
   "outputs": [
    {
     "data": {
      "text/plain": [
       "0.27    9\n",
       "0.34    7\n",
       "0.26    6\n",
       "Name: 0.627, dtype: int64"
      ]
     },
     "execution_count": 16,
     "metadata": {},
     "output_type": "execute_result"
    }
   ],
   "source": [
    "data['0.627'].value_counts().nlargest(3)"
   ]
  },
  {
   "cell_type": "code",
   "execution_count": 17,
   "id": "41c628d7",
   "metadata": {},
   "outputs": [],
   "source": [
    "data['0.627']=data['0.627'].replace(np.nan, 0.27)"
   ]
  },
  {
   "cell_type": "code",
   "execution_count": 18,
   "id": "8779dfad",
   "metadata": {},
   "outputs": [
    {
     "data": {
      "text/plain": [
       "22    72\n",
       "21    63\n",
       "25    48\n",
       "Name: 5, dtype: int64"
      ]
     },
     "execution_count": 18,
     "metadata": {},
     "output_type": "execute_result"
    }
   ],
   "source": [
    "data['5'].value_counts().nlargest(3)"
   ]
  },
  {
   "cell_type": "code",
   "execution_count": 19,
   "id": "957b2c89",
   "metadata": {},
   "outputs": [],
   "source": [
    "data['5']=data['5'].replace(np.nan, 22)"
   ]
  },
  {
   "cell_type": "code",
   "execution_count": 20,
   "id": "bf9a03f1",
   "metadata": {},
   "outputs": [
    {
     "data": {
      "text/plain": [
       "0    500\n",
       "1    267\n",
       "Name: 1, dtype: int64"
      ]
     },
     "execution_count": 20,
     "metadata": {},
     "output_type": "execute_result"
    }
   ],
   "source": [
    "data['1'].value_counts().nlargest(3)"
   ]
  },
  {
   "cell_type": "code",
   "execution_count": 21,
   "id": "2b42f12d",
   "metadata": {},
   "outputs": [],
   "source": [
    "data['1']=data['1'].replace(np.nan, 0)"
   ]
  },
  {
   "cell_type": "markdown",
   "id": "0f765308",
   "metadata": {},
   "source": [
    "# 3 Croping the data now "
   ]
  },
  {
   "cell_type": "code",
   "execution_count": 22,
   "id": "827f4ad1",
   "metadata": {},
   "outputs": [],
   "source": [
    "newdata=data.iloc[0:10,0:5]"
   ]
  },
  {
   "cell_type": "code",
   "execution_count": 23,
   "id": "1da9aabf",
   "metadata": {},
   "outputs": [
    {
     "data": {
      "text/html": [
       "<div>\n",
       "<style scoped>\n",
       "    .dataframe tbody tr th:only-of-type {\n",
       "        vertical-align: middle;\n",
       "    }\n",
       "\n",
       "    .dataframe tbody tr th {\n",
       "        vertical-align: top;\n",
       "    }\n",
       "\n",
       "    .dataframe thead th {\n",
       "        text-align: right;\n",
       "    }\n",
       "</style>\n",
       "<table border=\"1\" class=\"dataframe\">\n",
       "  <thead>\n",
       "    <tr style=\"text-align: right;\">\n",
       "      <th></th>\n",
       "      <th>6</th>\n",
       "      <th>148</th>\n",
       "      <th>72</th>\n",
       "      <th>35</th>\n",
       "      <th>Unnamed: 4</th>\n",
       "    </tr>\n",
       "  </thead>\n",
       "  <tbody>\n",
       "    <tr>\n",
       "      <th>0</th>\n",
       "      <td>1.0</td>\n",
       "      <td>85.0</td>\n",
       "      <td>66.0</td>\n",
       "      <td>29.0</td>\n",
       "      <td>15.0</td>\n",
       "    </tr>\n",
       "    <tr>\n",
       "      <th>1</th>\n",
       "      <td>8.0</td>\n",
       "      <td>183.0</td>\n",
       "      <td>64.0</td>\n",
       "      <td>32.0</td>\n",
       "      <td>15.0</td>\n",
       "    </tr>\n",
       "    <tr>\n",
       "      <th>2</th>\n",
       "      <td>1.0</td>\n",
       "      <td>89.0</td>\n",
       "      <td>66.0</td>\n",
       "      <td>23.0</td>\n",
       "      <td>94.0</td>\n",
       "    </tr>\n",
       "    <tr>\n",
       "      <th>3</th>\n",
       "      <td>1.0</td>\n",
       "      <td>137.0</td>\n",
       "      <td>4.0</td>\n",
       "      <td>35.0</td>\n",
       "      <td>168.0</td>\n",
       "    </tr>\n",
       "    <tr>\n",
       "      <th>4</th>\n",
       "      <td>5.0</td>\n",
       "      <td>116.0</td>\n",
       "      <td>74.0</td>\n",
       "      <td>32.0</td>\n",
       "      <td>15.0</td>\n",
       "    </tr>\n",
       "    <tr>\n",
       "      <th>5</th>\n",
       "      <td>3.0</td>\n",
       "      <td>78.0</td>\n",
       "      <td>5.0</td>\n",
       "      <td>32.0</td>\n",
       "      <td>88.0</td>\n",
       "    </tr>\n",
       "    <tr>\n",
       "      <th>6</th>\n",
       "      <td>1.0</td>\n",
       "      <td>115.0</td>\n",
       "      <td>7.0</td>\n",
       "      <td>32.0</td>\n",
       "      <td>15.0</td>\n",
       "    </tr>\n",
       "    <tr>\n",
       "      <th>7</th>\n",
       "      <td>2.0</td>\n",
       "      <td>197.0</td>\n",
       "      <td>7.0</td>\n",
       "      <td>45.0</td>\n",
       "      <td>543.0</td>\n",
       "    </tr>\n",
       "    <tr>\n",
       "      <th>8</th>\n",
       "      <td>8.0</td>\n",
       "      <td>125.0</td>\n",
       "      <td>96.0</td>\n",
       "      <td>32.0</td>\n",
       "      <td>15.0</td>\n",
       "    </tr>\n",
       "    <tr>\n",
       "      <th>9</th>\n",
       "      <td>4.0</td>\n",
       "      <td>11.0</td>\n",
       "      <td>92.0</td>\n",
       "      <td>32.0</td>\n",
       "      <td>15.0</td>\n",
       "    </tr>\n",
       "  </tbody>\n",
       "</table>\n",
       "</div>"
      ],
      "text/plain": [
       "     6    148    72    35  Unnamed: 4\n",
       "0  1.0   85.0  66.0  29.0        15.0\n",
       "1  8.0  183.0  64.0  32.0        15.0\n",
       "2  1.0   89.0  66.0  23.0        94.0\n",
       "3  1.0  137.0   4.0  35.0       168.0\n",
       "4  5.0  116.0  74.0  32.0        15.0\n",
       "5  3.0   78.0   5.0  32.0        88.0\n",
       "6  1.0  115.0   7.0  32.0        15.0\n",
       "7  2.0  197.0   7.0  45.0       543.0\n",
       "8  8.0  125.0  96.0  32.0        15.0\n",
       "9  4.0   11.0  92.0  32.0        15.0"
      ]
     },
     "execution_count": 23,
     "metadata": {},
     "output_type": "execute_result"
    }
   ],
   "source": [
    "newdata"
   ]
  },
  {
   "cell_type": "code",
   "execution_count": 24,
   "id": "c332c3a3",
   "metadata": {},
   "outputs": [
    {
     "data": {
      "text/html": [
       "<div>\n",
       "<style scoped>\n",
       "    .dataframe tbody tr th:only-of-type {\n",
       "        vertical-align: middle;\n",
       "    }\n",
       "\n",
       "    .dataframe tbody tr th {\n",
       "        vertical-align: top;\n",
       "    }\n",
       "\n",
       "    .dataframe thead th {\n",
       "        text-align: right;\n",
       "    }\n",
       "</style>\n",
       "<table border=\"1\" class=\"dataframe\">\n",
       "  <thead>\n",
       "    <tr style=\"text-align: right;\">\n",
       "      <th></th>\n",
       "      <th>6</th>\n",
       "      <th>148</th>\n",
       "      <th>72</th>\n",
       "      <th>35</th>\n",
       "      <th>Unnamed: 4</th>\n",
       "    </tr>\n",
       "  </thead>\n",
       "  <tbody>\n",
       "    <tr>\n",
       "      <th>6</th>\n",
       "      <td>7.822222</td>\n",
       "      <td>31.066667</td>\n",
       "      <td>61.622222</td>\n",
       "      <td>0.377778</td>\n",
       "      <td>-147.244444</td>\n",
       "    </tr>\n",
       "    <tr>\n",
       "      <th>148</th>\n",
       "      <td>31.066667</td>\n",
       "      <td>2852.711111</td>\n",
       "      <td>-747.511111</td>\n",
       "      <td>162.400000</td>\n",
       "      <td>4785.911111</td>\n",
       "    </tr>\n",
       "    <tr>\n",
       "      <th>72</th>\n",
       "      <td>61.622222</td>\n",
       "      <td>-747.511111</td>\n",
       "      <td>1440.766667</td>\n",
       "      <td>-97.933333</td>\n",
       "      <td>-3353.366667</td>\n",
       "    </tr>\n",
       "    <tr>\n",
       "      <th>35</th>\n",
       "      <td>0.377778</td>\n",
       "      <td>162.400000</td>\n",
       "      <td>-97.933333</td>\n",
       "      <td>29.600000</td>\n",
       "      <td>697.644444</td>\n",
       "    </tr>\n",
       "    <tr>\n",
       "      <th>Unnamed: 4</th>\n",
       "      <td>-147.244444</td>\n",
       "      <td>4785.911111</td>\n",
       "      <td>-3353.366667</td>\n",
       "      <td>697.644444</td>\n",
       "      <td>27152.677778</td>\n",
       "    </tr>\n",
       "  </tbody>\n",
       "</table>\n",
       "</div>"
      ],
      "text/plain": [
       "                     6          148           72          35    Unnamed: 4\n",
       "6             7.822222    31.066667    61.622222    0.377778   -147.244444\n",
       "148          31.066667  2852.711111  -747.511111  162.400000   4785.911111\n",
       "72           61.622222  -747.511111  1440.766667  -97.933333  -3353.366667\n",
       "35            0.377778   162.400000   -97.933333   29.600000    697.644444\n",
       "Unnamed: 4 -147.244444  4785.911111 -3353.366667  697.644444  27152.677778"
      ]
     },
     "execution_count": 24,
     "metadata": {},
     "output_type": "execute_result"
    }
   ],
   "source": [
    "newdata.cov()"
   ]
  },
  {
   "cell_type": "code",
   "execution_count": 25,
   "id": "1598f0cf",
   "metadata": {},
   "outputs": [
    {
     "data": {
      "text/plain": [
       "pandas.core.frame.DataFrame"
      ]
     },
     "execution_count": 25,
     "metadata": {},
     "output_type": "execute_result"
    }
   ],
   "source": [
    "type(newdata)"
   ]
  },
  {
   "cell_type": "code",
   "execution_count": 26,
   "id": "c25e0cea",
   "metadata": {},
   "outputs": [
    {
     "data": {
      "image/png": "[encoded data removed]",
      "text/plain": [
       "<Figure size 432x288 with 1 Axes>"
      ]
     },
     "metadata": {
      "needs_background": "light"
     },
     "output_type": "display_data"
    }
   ],
   "source": [
    "newdata.plot.scatter(x = '6', y = '148',s=45);"
   ]
  },
  {
   "cell_type": "code",
   "execution_count": 27,
   "id": "e181cce0",
   "metadata": {},
   "outputs": [
    {
     "data": {
      "image/png": "[encoded data removed]",
      "text/plain": [
       "<Figure size 432x288 with 1 Axes>"
      ]
     },
     "metadata": {
      "needs_background": "light"
     },
     "output_type": "display_data"
    }
   ],
   "source": [
    "newdata.plot.scatter(x = '6', y = '72',s=45);"
   ]
  },
  {
   "cell_type": "code",
   "execution_count": 28,
   "id": "97e38997",
   "metadata": {},
   "outputs": [
    {
     "data": {
      "image/png": "[encoded data removed]",
      "text/plain": [
       "<Figure size 432x288 with 1 Axes>"
      ]
     },
     "metadata": {
      "needs_background": "light"
     },
     "output_type": "display_data"
    }
   ],
   "source": [
    "newdata.plot.scatter(x = '6', y = '35',s=45);"
   ]
  },
  {
   "cell_type": "code",
   "execution_count": 29,
   "id": "b3abecd1",
   "metadata": {},
   "outputs": [
    {
     "data": {
      "image/png": "[encoded data removed]",
      "text/plain": [
       "<Figure size 432x288 with 1 Axes>"
      ]
     },
     "metadata": {
      "needs_background": "light"
     },
     "output_type": "display_data"
    }
   ],
   "source": [
    "newdata.plot.scatter(x = '6', y = 'Unnamed: 4',s=45);"
   ]
  },
  {
   "cell_type": "code",
   "execution_count": 30,
   "id": "23c1a2c8",
   "metadata": {},
   "outputs": [
    {
     "data": {
      "image/png": "[encoded data removed]",
      "text/plain": [
       "<Figure size 432x288 with 1 Axes>"
      ]
     },
     "metadata": {
      "needs_background": "light"
     },
     "output_type": "display_data"
    }
   ],
   "source": [
    "newdata.plot.scatter(x = '148', y = '72',s=45);"
   ]
  },
  {
   "cell_type": "code",
   "execution_count": 31,
   "id": "837d44be",
   "metadata": {},
   "outputs": [
    {
     "data": {
      "image/png": "[encoded data removed]",
      "text/plain": [
       "<Figure size 432x288 with 1 Axes>"
      ]
     },
     "metadata": {
      "needs_background": "light"
     },
     "output_type": "display_data"
    }
   ],
   "source": [
    "newdata.plot.scatter(x = '148', y = '35',s=45);"
   ]
  },
  {
   "cell_type": "code",
   "execution_count": 32,
   "id": "cae7cdee",
   "metadata": {},
   "outputs": [
    {
     "data": {
      "image/png": "[encoded data removed]",
      "text/plain": [
       "<Figure size 432x288 with 1 Axes>"
      ]
     },
     "metadata": {
      "needs_background": "light"
     },
     "output_type": "display_data"
    }
   ],
   "source": [
    "newdata.plot.scatter(x = '148', y = 'Unnamed: 4',s=45);"
   ]
  },
  {
   "cell_type": "code",
   "execution_count": 33,
   "id": "1262c4c0",
   "metadata": {},
   "outputs": [
    {
     "data": {
      "image/png": "[encoded data removed]",
      "text/plain": [
       "<Figure size 432x288 with 1 Axes>"
      ]
     },
     "metadata": {
      "needs_background": "light"
     },
     "output_type": "display_data"
    }
   ],
   "source": [
    "newdata.plot.scatter(x = '72', y = '35',s=45);"
   ]
  },
  {
   "cell_type": "code",
   "execution_count": 34,
   "id": "4a648120",
   "metadata": {},
   "outputs": [
    {
     "data": {
      "image/png": "[encoded data removed]",
      "text/plain": [
       "<Figure size 432x288 with 1 Axes>"
      ]
     },
     "metadata": {
      "needs_background": "light"
     },
     "output_type": "display_data"
    }
   ],
   "source": [
    "newdata.plot.scatter(x = '72', y = 'Unnamed: 4',s=45);"
   ]
  },
  {
   "cell_type": "code",
   "execution_count": 35,
   "id": "3967be48",
   "metadata": {},
   "outputs": [
    {
     "data": {
      "image/png": "[encoded data removed]",
      "text/plain": [
       "<Figure size 432x288 with 1 Axes>"
      ]
     },
     "metadata": {
      "needs_background": "light"
     },
     "output_type": "display_data"
    }
   ],
   "source": [
    "newdata.plot.scatter(x = '35', y = 'Unnamed: 4',s=30);"
   ]
  },
  {
   "cell_type": "code",
   "execution_count": null,
   "id": "c9c9c4fc",
   "metadata": {},
   "outputs": [],
   "source": []
  }
 ],
 "metadata": {
  "kernelspec": {
   "display_name": "Python 3 (ipykernel)",
   "language": "python",
   "name": "python3"
  },
  "language_info": {
   "codemirror_mode": {
    "name": "ipython",
    "version": 3
   },
   "file_extension": ".py",
   "mimetype": "text/x-python",
   "name": "python",
   "nbconvert_exporter": "python",
   "pygments_lexer": "ipython3",
   "version": "3.9.12"
  }
 },
 "nbformat": 4,
 "nbformat_minor": 5
}
