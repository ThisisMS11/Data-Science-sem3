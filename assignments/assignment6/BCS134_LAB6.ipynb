{
 "cells": [
  {
   "cell_type": "code",
   "execution_count": 1,
   "id": "74efe997",
   "metadata": {},
   "outputs": [
    {
     "name": "stdout",
     "output_type": "stream",
     "text": [
      "Enter the value of n : 4\n"
     ]
    }
   ],
   "source": [
    "prob=[]\n",
    "n=int(input(\"Enter the value of n : \"))"
   ]
  },
  {
   "cell_type": "code",
   "execution_count": 2,
   "id": "6586afa7",
   "metadata": {},
   "outputs": [],
   "source": [
    "for i in range(0,n):\n",
    "    x=i\n",
    "    if(x<=4):\n",
    "        prob.append((6*x*x - x*x*x)/32)\n",
    "    else:\n",
    "        prob.append(1.0)\n"
   ]
  },
  {
   "cell_type": "code",
   "execution_count": 3,
   "id": "eaace19e",
   "metadata": {},
   "outputs": [
    {
     "name": "stdout",
     "output_type": "stream",
     "text": [
      "[0.0, 0.15625, 0.5, 0.84375]\n"
     ]
    }
   ],
   "source": [
    "print(prob)"
   ]
  },
  {
   "cell_type": "markdown",
   "id": "f2347c97",
   "metadata": {},
   "source": [
    "## partA"
   ]
  },
  {
   "cell_type": "code",
   "execution_count": 4,
   "id": "ee276a6a",
   "metadata": {},
   "outputs": [
    {
     "name": "stdout",
     "output_type": "stream",
     "text": [
      "0.34375\n"
     ]
    }
   ],
   "source": [
    "# Part a\n",
    "print(prob[3]-prob[2])"
   ]
  },
  {
   "cell_type": "markdown",
   "id": "7a7f45d7",
   "metadata": {},
   "source": [
    "## PartB"
   ]
  },
  {
   "cell_type": "code",
   "execution_count": 5,
   "id": "d050328e",
   "metadata": {},
   "outputs": [
    {
     "name": "stdout",
     "output_type": "stream",
     "text": [
      "0.84375\n"
     ]
    }
   ],
   "source": [
    "#part2\n",
    "ans = 1- prob[1]\n",
    "print(ans)"
   ]
  },
  {
   "cell_type": "markdown",
   "id": "fbbb4287",
   "metadata": {},
   "source": [
    "## partC"
   ]
  },
  {
   "cell_type": "code",
   "execution_count": 6,
   "id": "51f781b4",
   "metadata": {},
   "outputs": [
    {
     "name": "stdout",
     "output_type": "stream",
     "text": [
      "0.84375\n"
     ]
    }
   ],
   "source": [
    "# variance\n",
    "fx =(12*x -3*x*x)/32\n",
    "xfx=(12*x*x - 3*x*x*x)/32\n",
    "\n",
    "\n",
    "Ex = (12*3*3 - 3*3*3*3)/32.0\n",
    "print(Ex)"
   ]
  },
  {
   "cell_type": "code",
   "execution_count": 8,
   "id": "3a3b5a7a",
   "metadata": {},
   "outputs": [],
   "source": [
    "var_sum=0\n",
    "for i in range(0,n):\n",
    "    var_sum+=prob[i]*(i-Ex)*(i-Ex)"
   ]
  },
  {
   "cell_type": "code",
   "execution_count": 9,
   "id": "11d97685",
   "metadata": {},
   "outputs": [
    {
     "name": "stdout",
     "output_type": "stream",
     "text": [
      "1.1488037109375\n"
     ]
    }
   ],
   "source": [
    "print(var_sum/n)"
   ]
  },
  {
   "cell_type": "markdown",
   "id": "e215b705",
   "metadata": {},
   "source": [
    "## part2"
   ]
  },
  {
   "cell_type": "code",
   "execution_count": null,
   "id": "7f5b1aa2",
   "metadata": {},
   "outputs": [],
   "source": []
  }
 ],
 "metadata": {
  "kernelspec": {
   "display_name": "Python 3 (ipykernel)",
   "language": "python",
   "name": "python3"
  },
  "language_info": {
   "codemirror_mode": {
    "name": "ipython",
    "version": 3
   },
   "file_extension": ".py",
   "mimetype": "text/x-python",
   "name": "python",
   "nbconvert_exporter": "python",
   "pygments_lexer": "ipython3",
   "version": "3.9.12"
  }
 },
 "nbformat": 4,
 "nbformat_minor": 5
}
