{
 "cells": [
  {
   "cell_type": "markdown",
   "id": "392d5ecf",
   "metadata": {},
   "source": [
    "## 1) A scientist interested in monitoring chemical contaminants in food, and thereby the accumulation of contaminants in human diets, selected a random sample n = 0 male adults. It was found that the average daily intake of dairy products was x (bar) = 756 grams per day with a standard deviation of s = 35 grams per day. Use this sample information to construct a 95%, 90%, and 99% confidence interval for the mean daily intake of dairy products for men.\n"
   ]
  },
  {
   "cell_type": "code",
   "execution_count": 1,
   "id": "a4b39c43",
   "metadata": {},
   "outputs": [],
   "source": [
    "import numpy as np \n",
    "import pandas as pd\n",
    "import math"
   ]
  },
  {
   "cell_type": "code",
   "execution_count": 13,
   "id": "cdcc2b41",
   "metadata": {},
   "outputs": [
    {
     "name": "stdout",
     "output_type": "stream",
     "text": [
      "Enter average daily intake of dairy products was x (bar) : 756\n",
      "Enter the standard deviation :35\n",
      "Enter the n :40\n",
      "Range for 90% confident =  746.8965931857903  to  765.1034068142097\n",
      "Range for 95% confident =  745.1533876256225  to  766.8466123743775\n",
      "Range for 99% confident =  741.7223163643398  to  770.2776836356602\n"
     ]
    }
   ],
   "source": [
    "xbar= int(input(\"Enter average daily intake of dairy products was x (bar) : \"))\n",
    "\n",
    "sigma=int(input(\"Enter the standard deviation :\" ))\n",
    "\n",
    "n=int(input(\"Enter the n :\"))\n",
    "\n",
    "sqrt_n=math.sqrt(n)\n",
    "\n",
    "z_95= 1.960\n",
    "z_90 = 1.645\n",
    "z_99 = 2.580\n",
    "    \n",
    "    \n",
    "\n",
    "print(\"Range for 90% confident = \",xbar-(z_90*sigma/sqrt_n),\" to \",xbar+(z_90*sigma/sqrt_n))\n",
    "\n",
    "print(\"Range for 95% confident = \",xbar-(z_95*sigma/sqrt_n),\" to \",xbar+(z_95*sigma/sqrt_n))\n",
    "\n",
    "print(\"Range for 99% confident = \",xbar-(z_99*sigma/sqrt_n),\" to \",xbar+(z_99*sigma/sqrt_n))"
   ]
  },
  {
   "cell_type": "markdown",
   "id": "53d6ae35",
   "metadata": {},
   "source": [
    "## 2) A physician wishes to estimate with 95%, 90%, and 99% confidence the population's mean \"serum cholesterol\" level. He wished the estimate to be within 5 units of the true mean. From the previous work, he has learned that the appropriate value of standard deviation is 20. How large a sample should he take?"
   ]
  },
  {
   "cell_type": "code",
   "execution_count": 14,
   "id": "bfc43496",
   "metadata": {},
   "outputs": [
    {
     "name": "stdout",
     "output_type": "stream",
     "text": [
      "Enter the range of true mean : 5\n",
      "Enter the Standard deviation : 20\n"
     ]
    }
   ],
   "source": [
    "mean=float(input(\"Enter the range of true mean : \"))\n",
    "sd = float(input(\"Enter the Standard deviation : \"))"
   ]
  },
  {
   "cell_type": "code",
   "execution_count": 15,
   "id": "70e801ea",
   "metadata": {},
   "outputs": [],
   "source": [
    "def sample(z,std,e):\n",
    "    return (math.ceil((z**2)*(std**2)/(e**2)))\n"
   ]
  },
  {
   "cell_type": "code",
   "execution_count": 16,
   "id": "daa3a92f",
   "metadata": {},
   "outputs": [
    {
     "name": "stdout",
     "output_type": "stream",
     "text": [
      "For 90% Sample Size should be =  44\n",
      "For 95% Sample Size should be =  62\n",
      "For 99% Sample Size should be =  107\n"
     ]
    }
   ],
   "source": [
    "print(\"For 90% Sample Size should be = \", sample(z_90,sd,mean))\n",
    "print(\"For 95% Sample Size should be = \", sample(z_95,sd,mean))\n",
    "print(\"For 99% Sample Size should be = \", sample(z_99,sd,mean))"
   ]
  },
  {
   "cell_type": "code",
   "execution_count": null,
   "id": "856614a4",
   "metadata": {},
   "outputs": [],
   "source": []
  }
 ],
 "metadata": {
  "kernelspec": {
   "display_name": "Python 3 (ipykernel)",
   "language": "python",
   "name": "python3"
  },
  "language_info": {
   "codemirror_mode": {
    "name": "ipython",
    "version": 3
   },
   "file_extension": ".py",
   "mimetype": "text/x-python",
   "name": "python",
   "nbconvert_exporter": "python",
   "pygments_lexer": "ipython3",
   "version": "3.9.12"
  }
 },
 "nbformat": 4,
 "nbformat_minor": 5
}
