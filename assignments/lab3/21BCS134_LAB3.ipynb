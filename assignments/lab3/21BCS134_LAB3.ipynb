{
 "cells": [
  {
   "cell_type": "code",
   "execution_count": 1,
   "id": "dbb68551",
   "metadata": {},
   "outputs": [],
   "source": [
    "import numpy as np\n",
    "import pandas as pd"
   ]
  },
  {
   "cell_type": "code",
   "execution_count": 2,
   "id": "a2521f6f",
   "metadata": {},
   "outputs": [],
   "source": [
    "data={\n",
    "    \"LowerRange\":[150,155,160,165,170,175,180],\n",
    "    \"UpperRange\":[154,159,164,169,174,179,184],\n",
    "    \"Frequency\":[5,2,6,8,9,11,6]\n",
    "}"
   ]
  },
  {
   "cell_type": "code",
   "execution_count": 3,
   "id": "c78c36f2",
   "metadata": {},
   "outputs": [],
   "source": [
    "datadf=pd.DataFrame(data)"
   ]
  },
  {
   "cell_type": "code",
   "execution_count": 4,
   "id": "7c5c98c7",
   "metadata": {},
   "outputs": [
    {
     "data": {
      "text/html": [
       "<div>\n",
       "<style scoped>\n",
       "    .dataframe tbody tr th:only-of-type {\n",
       "        vertical-align: middle;\n",
       "    }\n",
       "\n",
       "    .dataframe tbody tr th {\n",
       "        vertical-align: top;\n",
       "    }\n",
       "\n",
       "    .dataframe thead th {\n",
       "        text-align: right;\n",
       "    }\n",
       "</style>\n",
       "<table border=\"1\" class=\"dataframe\">\n",
       "  <thead>\n",
       "    <tr style=\"text-align: right;\">\n",
       "      <th></th>\n",
       "      <th>LowerRange</th>\n",
       "      <th>UpperRange</th>\n",
       "      <th>Frequency</th>\n",
       "    </tr>\n",
       "  </thead>\n",
       "  <tbody>\n",
       "    <tr>\n",
       "      <th>0</th>\n",
       "      <td>150</td>\n",
       "      <td>154</td>\n",
       "      <td>5</td>\n",
       "    </tr>\n",
       "    <tr>\n",
       "      <th>1</th>\n",
       "      <td>155</td>\n",
       "      <td>159</td>\n",
       "      <td>2</td>\n",
       "    </tr>\n",
       "    <tr>\n",
       "      <th>2</th>\n",
       "      <td>160</td>\n",
       "      <td>164</td>\n",
       "      <td>6</td>\n",
       "    </tr>\n",
       "    <tr>\n",
       "      <th>3</th>\n",
       "      <td>165</td>\n",
       "      <td>169</td>\n",
       "      <td>8</td>\n",
       "    </tr>\n",
       "    <tr>\n",
       "      <th>4</th>\n",
       "      <td>170</td>\n",
       "      <td>174</td>\n",
       "      <td>9</td>\n",
       "    </tr>\n",
       "    <tr>\n",
       "      <th>5</th>\n",
       "      <td>175</td>\n",
       "      <td>179</td>\n",
       "      <td>11</td>\n",
       "    </tr>\n",
       "    <tr>\n",
       "      <th>6</th>\n",
       "      <td>180</td>\n",
       "      <td>184</td>\n",
       "      <td>6</td>\n",
       "    </tr>\n",
       "  </tbody>\n",
       "</table>\n",
       "</div>"
      ],
      "text/plain": [
       "   LowerRange  UpperRange  Frequency\n",
       "0         150         154          5\n",
       "1         155         159          2\n",
       "2         160         164          6\n",
       "3         165         169          8\n",
       "4         170         174          9\n",
       "5         175         179         11\n",
       "6         180         184          6"
      ]
     },
     "execution_count": 4,
     "metadata": {},
     "output_type": "execute_result"
    }
   ],
   "source": [
    "datadf"
   ]
  },
  {
   "cell_type": "code",
   "execution_count": 5,
   "id": "ecf85359",
   "metadata": {},
   "outputs": [
    {
     "data": {
      "text/plain": [
       "[5, 7, 13, 21, 30, 41, 47]"
      ]
     },
     "execution_count": 5,
     "metadata": {},
     "output_type": "execute_result"
    }
   ],
   "source": [
    "cfarray=[];\n",
    "count=0;\n",
    "for item in datadf['Frequency']:\n",
    "    count+=item\n",
    "    cfarray.append(count)\n",
    "cfarray"
   ]
  },
  {
   "cell_type": "code",
   "execution_count": 6,
   "id": "7c095ef2",
   "metadata": {},
   "outputs": [],
   "source": [
    "n=0\n",
    "for i in datadf['Frequency']:\n",
    "    n+=i"
   ]
  },
  {
   "cell_type": "code",
   "execution_count": 7,
   "id": "e70c6d7d",
   "metadata": {},
   "outputs": [
    {
     "data": {
      "text/plain": [
       "11"
      ]
     },
     "execution_count": 7,
     "metadata": {},
     "output_type": "execute_result"
    }
   ],
   "source": [
    "maxfrequency=datadf.max()['Frequency']\n",
    "maxfrequency"
   ]
  },
  {
   "cell_type": "code",
   "execution_count": 8,
   "id": "9b127bcd",
   "metadata": {},
   "outputs": [],
   "source": [
    "l=datadf.loc[(datadf['Frequency']==maxfrequency)]['LowerRange']-0.5\n",
    "h=5"
   ]
  },
  {
   "cell_type": "code",
   "execution_count": 9,
   "id": "f190da99",
   "metadata": {},
   "outputs": [],
   "source": [
    "mohit=l.index-1"
   ]
  },
  {
   "cell_type": "code",
   "execution_count": 10,
   "id": "1e495c04",
   "metadata": {},
   "outputs": [],
   "source": [
    "i=0\n",
    "cf=0\n",
    "for i in cfarray:\n",
    "    if(i==mohit-1):\n",
    "        cf=i\n",
    "        break;\n",
    "    ++i"
   ]
  },
  {
   "cell_type": "code",
   "execution_count": 11,
   "id": "476fa2f7",
   "metadata": {},
   "outputs": [],
   "source": [
    "median=l+((n/2 - cf)/maxfrequency)*h"
   ]
  },
  {
   "cell_type": "code",
   "execution_count": 12,
   "id": "05936e2c",
   "metadata": {},
   "outputs": [
    {
     "data": {
      "text/plain": [
       "5    185.181818\n",
       "Name: LowerRange, dtype: float64"
      ]
     },
     "execution_count": 12,
     "metadata": {},
     "output_type": "execute_result"
    }
   ],
   "source": [
    "median"
   ]
  },
  {
   "cell_type": "markdown",
   "id": "1b139f6c",
   "metadata": {},
   "source": [
    "# Variance"
   ]
  },
  {
   "cell_type": "code",
   "execution_count": 13,
   "id": "5f373d9b",
   "metadata": {},
   "outputs": [
    {
     "data": {
      "text/html": [
       "<div>\n",
       "<style scoped>\n",
       "    .dataframe tbody tr th:only-of-type {\n",
       "        vertical-align: middle;\n",
       "    }\n",
       "\n",
       "    .dataframe tbody tr th {\n",
       "        vertical-align: top;\n",
       "    }\n",
       "\n",
       "    .dataframe thead th {\n",
       "        text-align: right;\n",
       "    }\n",
       "</style>\n",
       "<table border=\"1\" class=\"dataframe\">\n",
       "  <thead>\n",
       "    <tr style=\"text-align: right;\">\n",
       "      <th></th>\n",
       "      <th>LowerRange</th>\n",
       "      <th>UpperRange</th>\n",
       "      <th>Frequency</th>\n",
       "    </tr>\n",
       "  </thead>\n",
       "  <tbody>\n",
       "    <tr>\n",
       "      <th>0</th>\n",
       "      <td>150</td>\n",
       "      <td>154</td>\n",
       "      <td>5</td>\n",
       "    </tr>\n",
       "    <tr>\n",
       "      <th>1</th>\n",
       "      <td>155</td>\n",
       "      <td>159</td>\n",
       "      <td>2</td>\n",
       "    </tr>\n",
       "    <tr>\n",
       "      <th>2</th>\n",
       "      <td>160</td>\n",
       "      <td>164</td>\n",
       "      <td>6</td>\n",
       "    </tr>\n",
       "    <tr>\n",
       "      <th>3</th>\n",
       "      <td>165</td>\n",
       "      <td>169</td>\n",
       "      <td>8</td>\n",
       "    </tr>\n",
       "    <tr>\n",
       "      <th>4</th>\n",
       "      <td>170</td>\n",
       "      <td>174</td>\n",
       "      <td>9</td>\n",
       "    </tr>\n",
       "    <tr>\n",
       "      <th>5</th>\n",
       "      <td>175</td>\n",
       "      <td>179</td>\n",
       "      <td>11</td>\n",
       "    </tr>\n",
       "    <tr>\n",
       "      <th>6</th>\n",
       "      <td>180</td>\n",
       "      <td>184</td>\n",
       "      <td>6</td>\n",
       "    </tr>\n",
       "  </tbody>\n",
       "</table>\n",
       "</div>"
      ],
      "text/plain": [
       "   LowerRange  UpperRange  Frequency\n",
       "0         150         154          5\n",
       "1         155         159          2\n",
       "2         160         164          6\n",
       "3         165         169          8\n",
       "4         170         174          9\n",
       "5         175         179         11\n",
       "6         180         184          6"
      ]
     },
     "execution_count": 13,
     "metadata": {},
     "output_type": "execute_result"
    }
   ],
   "source": [
    "datadf"
   ]
  },
  {
   "cell_type": "code",
   "execution_count": 14,
   "id": "44276918",
   "metadata": {},
   "outputs": [],
   "source": [
    "LowerRangearray=[]\n",
    "UpperRangearray=[]\n",
    "frequency=[]\n",
    "for item in datadf['LowerRange']:\n",
    "    LowerRangearray.append(item)\n",
    "    \n",
    "for item in datadf['UpperRange']:\n",
    "    UpperRangearray.append(item)\n",
    "    \n",
    "for item in datadf['Frequency']:\n",
    "    frequency.append(item)\n",
    "    "
   ]
  },
  {
   "cell_type": "code",
   "execution_count": 15,
   "id": "d4dfd6a5",
   "metadata": {},
   "outputs": [
    {
     "data": {
      "text/plain": [
       "[5, 2, 6, 8, 9, 11, 6]"
      ]
     },
     "execution_count": 15,
     "metadata": {},
     "output_type": "execute_result"
    }
   ],
   "source": [
    "frequency"
   ]
  },
  {
   "cell_type": "code",
   "execution_count": 16,
   "id": "e85c647e",
   "metadata": {},
   "outputs": [
    {
     "data": {
      "text/plain": [
       "169.5531914893617"
      ]
     },
     "execution_count": 16,
     "metadata": {},
     "output_type": "execute_result"
    }
   ],
   "source": [
    "summean=0\n",
    "midarray=[]\n",
    "for i in range(0,len(frequency)):\n",
    "    mid=(LowerRangearray[i]+UpperRangearray[i])/2\n",
    "    midfre=mid*frequency[i]\n",
    "    midarray.append(mid)\n",
    "    summean+=midfre\n",
    "mean=summean/n\n",
    "mean"
   ]
  },
  {
   "cell_type": "code",
   "execution_count": 17,
   "id": "d39ac306",
   "metadata": {},
   "outputs": [
    {
     "data": {
      "text/plain": [
       "81.7790855590765"
      ]
     },
     "execution_count": 17,
     "metadata": {},
     "output_type": "execute_result"
    }
   ],
   "source": [
    "sum3=0\n",
    "for i in range(0,len(frequency)):\n",
    "    sum3+=frequency[i]*((midarray[i]-mean)**2)\n",
    "variance=sum3/n\n",
    "variance\n",
    "    \n",
    "    "
   ]
  },
  {
   "cell_type": "markdown",
   "id": "ea12dd63",
   "metadata": {},
   "source": [
    "# Standard Deviation"
   ]
  },
  {
   "cell_type": "code",
   "execution_count": 18,
   "id": "f89fb3bf",
   "metadata": {},
   "outputs": [],
   "source": [
    "import math\n",
    "sd=math.sqrt(variance)"
   ]
  },
  {
   "cell_type": "code",
   "execution_count": 19,
   "id": "cb2907f3",
   "metadata": {},
   "outputs": [
    {
     "data": {
      "text/plain": [
       "9.043178952065281"
      ]
     },
     "execution_count": 19,
     "metadata": {},
     "output_type": "execute_result"
    }
   ],
   "source": [
    "sd"
   ]
  },
  {
   "cell_type": "code",
   "execution_count": null,
   "id": "5b69008e",
   "metadata": {},
   "outputs": [],
   "source": []
  },
  {
   "cell_type": "code",
   "execution_count": null,
   "id": "c90fbe35",
   "metadata": {},
   "outputs": [],
   "source": []
  }
 ],
 "metadata": {
  "kernelspec": {
   "display_name": "Python 3 (ipykernel)",
   "language": "python",
   "name": "python3"
  },
  "language_info": {
   "codemirror_mode": {
    "name": "ipython",
    "version": 3
   },
   "file_extension": ".py",
   "mimetype": "text/x-python",
   "name": "python",
   "nbconvert_exporter": "python",
   "pygments_lexer": "ipython3",
   "version": "3.9.12"
  }
 },
 "nbformat": 4,
 "nbformat_minor": 5
}
