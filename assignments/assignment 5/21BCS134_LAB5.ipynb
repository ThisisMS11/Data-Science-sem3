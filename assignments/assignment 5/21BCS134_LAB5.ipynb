{
 "cells": [
  {
   "cell_type": "markdown",
   "id": "95220b4f",
   "metadata": {},
   "source": [
    "# Q1"
   ]
  },
  {
   "cell_type": "code",
   "execution_count": 1,
   "id": "c499ff8d",
   "metadata": {},
   "outputs": [],
   "source": [
    "import pandas as pd\n",
    "import numpy as np\n",
    "import random"
   ]
  },
  {
   "cell_type": "code",
   "execution_count": 2,
   "id": "3321e326",
   "metadata": {},
   "outputs": [
    {
     "name": "stdout",
     "output_type": "stream",
     "text": [
      "Enter the String :xyxx\n",
      "Enter the integer N :4\n"
     ]
    }
   ],
   "source": [
    "S=input(\"Enter the String :\")\n",
    "L=len(S)\n",
    "N=int(input(\"Enter the integer N :\"))\n",
    "\n",
    "totaloutcomes=L*L"
   ]
  },
  {
   "cell_type": "code",
   "execution_count": 3,
   "id": "15c31cc3",
   "metadata": {},
   "outputs": [],
   "source": [
    "sA=[]\n",
    "sB=[]\n",
    "difference=[]"
   ]
  },
  {
   "cell_type": "code",
   "execution_count": 4,
   "id": "f86241c7",
   "metadata": {},
   "outputs": [],
   "source": [
    "for char1 in range(len(S)):\n",
    "    for char2 in range(len(S)):\n",
    "        sA.append(S[char1])\n",
    "        sB.append(S[char2])\n",
    "        difference.append(abs(char1-char2))\n"
   ]
  },
  {
   "cell_type": "code",
   "execution_count": 5,
   "id": "1355e6ba",
   "metadata": {},
   "outputs": [
    {
     "data": {
      "text/html": [
       "<div>\n",
       "<style scoped>\n",
       "    .dataframe tbody tr th:only-of-type {\n",
       "        vertical-align: middle;\n",
       "    }\n",
       "\n",
       "    .dataframe tbody tr th {\n",
       "        vertical-align: top;\n",
       "    }\n",
       "\n",
       "    .dataframe thead th {\n",
       "        text-align: right;\n",
       "    }\n",
       "</style>\n",
       "<table border=\"1\" class=\"dataframe\">\n",
       "  <thead>\n",
       "    <tr style=\"text-align: right;\">\n",
       "      <th></th>\n",
       "      <th>Sample(i)</th>\n",
       "      <th>Sample(j)</th>\n",
       "      <th>abs_diff</th>\n",
       "    </tr>\n",
       "  </thead>\n",
       "  <tbody>\n",
       "    <tr>\n",
       "      <th>0</th>\n",
       "      <td>x</td>\n",
       "      <td>x</td>\n",
       "      <td>0</td>\n",
       "    </tr>\n",
       "    <tr>\n",
       "      <th>1</th>\n",
       "      <td>x</td>\n",
       "      <td>y</td>\n",
       "      <td>1</td>\n",
       "    </tr>\n",
       "    <tr>\n",
       "      <th>2</th>\n",
       "      <td>x</td>\n",
       "      <td>x</td>\n",
       "      <td>2</td>\n",
       "    </tr>\n",
       "    <tr>\n",
       "      <th>3</th>\n",
       "      <td>x</td>\n",
       "      <td>x</td>\n",
       "      <td>3</td>\n",
       "    </tr>\n",
       "    <tr>\n",
       "      <th>4</th>\n",
       "      <td>y</td>\n",
       "      <td>x</td>\n",
       "      <td>1</td>\n",
       "    </tr>\n",
       "    <tr>\n",
       "      <th>5</th>\n",
       "      <td>y</td>\n",
       "      <td>y</td>\n",
       "      <td>0</td>\n",
       "    </tr>\n",
       "    <tr>\n",
       "      <th>6</th>\n",
       "      <td>y</td>\n",
       "      <td>x</td>\n",
       "      <td>1</td>\n",
       "    </tr>\n",
       "    <tr>\n",
       "      <th>7</th>\n",
       "      <td>y</td>\n",
       "      <td>x</td>\n",
       "      <td>2</td>\n",
       "    </tr>\n",
       "    <tr>\n",
       "      <th>8</th>\n",
       "      <td>x</td>\n",
       "      <td>x</td>\n",
       "      <td>2</td>\n",
       "    </tr>\n",
       "    <tr>\n",
       "      <th>9</th>\n",
       "      <td>x</td>\n",
       "      <td>y</td>\n",
       "      <td>1</td>\n",
       "    </tr>\n",
       "    <tr>\n",
       "      <th>10</th>\n",
       "      <td>x</td>\n",
       "      <td>x</td>\n",
       "      <td>0</td>\n",
       "    </tr>\n",
       "    <tr>\n",
       "      <th>11</th>\n",
       "      <td>x</td>\n",
       "      <td>x</td>\n",
       "      <td>1</td>\n",
       "    </tr>\n",
       "    <tr>\n",
       "      <th>12</th>\n",
       "      <td>x</td>\n",
       "      <td>x</td>\n",
       "      <td>3</td>\n",
       "    </tr>\n",
       "    <tr>\n",
       "      <th>13</th>\n",
       "      <td>x</td>\n",
       "      <td>y</td>\n",
       "      <td>2</td>\n",
       "    </tr>\n",
       "    <tr>\n",
       "      <th>14</th>\n",
       "      <td>x</td>\n",
       "      <td>x</td>\n",
       "      <td>1</td>\n",
       "    </tr>\n",
       "    <tr>\n",
       "      <th>15</th>\n",
       "      <td>x</td>\n",
       "      <td>x</td>\n",
       "      <td>0</td>\n",
       "    </tr>\n",
       "  </tbody>\n",
       "</table>\n",
       "</div>"
      ],
      "text/plain": [
       "   Sample(i) Sample(j)  abs_diff\n",
       "0          x         x         0\n",
       "1          x         y         1\n",
       "2          x         x         2\n",
       "3          x         x         3\n",
       "4          y         x         1\n",
       "5          y         y         0\n",
       "6          y         x         1\n",
       "7          y         x         2\n",
       "8          x         x         2\n",
       "9          x         y         1\n",
       "10         x         x         0\n",
       "11         x         x         1\n",
       "12         x         x         3\n",
       "13         x         y         2\n",
       "14         x         x         1\n",
       "15         x         x         0"
      ]
     },
     "execution_count": 5,
     "metadata": {},
     "output_type": "execute_result"
    }
   ],
   "source": [
    "df=pd.DataFrame({'Sample(i)':sA , 'Sample(j)': sB, 'abs_diff':difference})\n",
    "df"
   ]
  },
  {
   "cell_type": "code",
   "execution_count": 6,
   "id": "6ff121b0",
   "metadata": {},
   "outputs": [
    {
     "data": {
      "text/plain": [
       "9"
      ]
     },
     "execution_count": 6,
     "metadata": {},
     "output_type": "execute_result"
    }
   ],
   "source": [
    "count=0\n",
    "for i in range(len(df)):\n",
    "    if(sA[i]==sB[i] and sA[i]=='x'):\n",
    "        if(difference[i]<N):\n",
    "            count=count+1\n",
    "count"
   ]
  },
  {
   "cell_type": "code",
   "execution_count": 7,
   "id": "6e8159cd",
   "metadata": {},
   "outputs": [
    {
     "name": "stdout",
     "output_type": "stream",
     "text": [
      "probability =  9 / 16\n"
     ]
    }
   ],
   "source": [
    "print(\"probability = \",count,\"/\", totaloutcomes)"
   ]
  },
  {
   "cell_type": "markdown",
   "id": "c4462e5a",
   "metadata": {},
   "source": [
    "# Q2"
   ]
  },
  {
   "cell_type": "code",
   "execution_count": null,
   "id": "e8f489a8",
   "metadata": {},
   "outputs": [],
   "source": [
    "M=int(input(\"Enter the value of  M: \"))\n",
    "n=int(input(\"Enter the no of positions : \"))"
   ]
  },
  {
   "cell_type": "code",
   "execution_count": null,
   "id": "5b655cbf",
   "metadata": {},
   "outputs": [],
   "source": [
    "positions=[]\n",
    "for i in range(n):\n",
    "    hold=int(input(\"Enter the value of position : \"))\n",
    "    positions.append(hold)"
   ]
  },
  {
   "cell_type": "code",
   "execution_count": null,
   "id": "48d7293f",
   "metadata": {},
   "outputs": [],
   "source": [
    "T=int(input(\"Checker T: \"))\n",
    "\n",
    "ans=0\n",
    "i=0\n",
    "for i in range(len(positions)):\n",
    "    for j in range(i+1,n):\n",
    "        if((abs(positions[i]-positions[j])>T) or (positions[i]>T or (M-positions[j])>T)):\n",
    "            ans+=1\n",
    "\n",
    "result= int(ans/n)\n",
    "\n",
    "result"
   ]
  },
  {
   "cell_type": "code",
   "execution_count": null,
   "id": "5c794ec1",
   "metadata": {},
   "outputs": [],
   "source": []
  }
 ],
 "metadata": {
  "kernelspec": {
   "display_name": "Python 3 (ipykernel)",
   "language": "python",
   "name": "python3"
  },
  "language_info": {
   "codemirror_mode": {
    "name": "ipython",
    "version": 3
   },
   "file_extension": ".py",
   "mimetype": "text/x-python",
   "name": "python",
   "nbconvert_exporter": "python",
   "pygments_lexer": "ipython3",
   "version": "3.9.12"
  }
 },
 "nbformat": 4,
 "nbformat_minor": 5
}
